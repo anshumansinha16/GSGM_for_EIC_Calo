{
 "cells": [
  {
   "cell_type": "code",
   "execution_count": 1,
   "id": "1e4c550e-baaa-41d9-8277-79480a7d48b0",
   "metadata": {},
   "outputs": [],
   "source": [
    "import h5py as h5\n",
    "import numpy as np\n",
    "import os\n",
    "import matplotlib.pyplot as plt"
   ]
  },
  {
   "cell_type": "code",
   "execution_count": 2,
   "id": "85e57149-1d1e-4e83-80c3-d347bd326379",
   "metadata": {},
   "outputs": [],
   "source": [
    "labels=[\"truncated_1000cells_FPCD.hdf5\"]\n",
    "data_path = \"./\""
   ]
  },
  {
   "cell_type": "code",
   "execution_count": 3,
   "id": "eb262745-d759-4444-897c-65547a4e4eef",
   "metadata": {},
   "outputs": [],
   "source": [
    "#print(int(0.7*ntotal))"
   ]
  },
  {
   "cell_type": "code",
   "execution_count": 4,
   "id": "a4fe37fc-839f-469f-b178-91047060471c",
   "metadata": {},
   "outputs": [],
   "source": [
    "#ntotal"
   ]
  },
  {
   "cell_type": "code",
   "execution_count": 10,
   "id": "0bdf3422-9951-48e0-b6be-786bcc874476",
   "metadata": {},
   "outputs": [
    {
     "name": "stdout",
     "output_type": "stream",
     "text": [
      "SimpleLoader File truncated_1000cells_FPCD.hdf5, Particle =  [[[-9.0000e+02  3.8215e+03  1.0000e+00]\n",
      "  [-9.0000e+02  3.8449e+03  1.0000e+00]\n",
      "  [-9.0000e+02  3.8683e+03  1.0000e+00]\n",
      "  ...\n",
      "  [ 0.0000e+00  0.0000e+00  0.0000e+00]\n",
      "  [ 0.0000e+00  0.0000e+00  0.0000e+00]\n",
      "  [ 0.0000e+00  0.0000e+00  0.0000e+00]]\n",
      "\n",
      " [[-1.2000e+03  3.8215e+03  1.0000e+00]\n",
      "  [-1.2000e+03  3.8449e+03  1.0000e+00]\n",
      "  [-1.3000e+03  3.9619e+03  1.0000e+00]\n",
      "  ...\n",
      "  [ 0.0000e+00  0.0000e+00  0.0000e+00]\n",
      "  [ 0.0000e+00  0.0000e+00  0.0000e+00]\n",
      "  [ 0.0000e+00  0.0000e+00  0.0000e+00]]]\n"
     ]
    }
   ],
   "source": [
    "for label in labels:\n",
    "#if 'w' in label or 'z' in label: continue #no evaluation for w and z\n",
    "    with h5.File(os.path.join(data_path,label),\"r\") as h5f:\n",
    "        ntotal = h5f['cluster'][:].shape[0]\n",
    "        particle = h5f['hcal_cells'][int(0.7*ntotal):int(0.7*ntotal)+2,:-10,2:].astype(np.float32)\n",
    "        print(f\"SimpleLoader File {label}, Particle = \",particle)\n",
    "        inpX = np.ravel(h5f['hcal_cells'][:100,:-10,1].astype(np.float32))"
   ]
  },
  {
   "cell_type": "code",
   "execution_count": 6,
   "id": "9ec232f4-dcc3-4079-b8b9-74aaf9a9284a",
   "metadata": {},
   "outputs": [
    {
     "name": "stdout",
     "output_type": "stream",
     "text": [
      "SimpleLoader File truncated_1000cells_FPCD.hdf5, Particle =  [[ 6.3551770e-04 -2.7000054e+03  2.6000054e+03 -5.0851102e-03]\n",
      " [ 1.5162298e-04  2.6000054e+03  2.6000054e+03  5.0851050e+03]\n",
      " [ 6.7609799e-04 -2.7000054e+03  2.6000054e+03  5.0851050e+03]\n",
      " [ 1.4363074e-04  2.6000054e+03  2.6000054e+03            nan]\n",
      " [ 6.9012889e-04  2.5264617e+03  2.6000054e+03            nan]\n",
      " [ 5.9546001e-04 -2.7000054e+03 -2.7000054e+03            nan]\n",
      " [ 7.9333171e-04  2.6000054e+03 -2.7000054e+03 -5.0851102e-03]\n",
      " [ 4.3361512e-04  2.6000054e+03  2.6000054e+03 -5.0851102e-03]\n",
      " [ 2.2623796e-04  2.6000054e+03 -2.7000054e+03  5.0851050e+03]\n",
      " [ 1.5450208e-04  2.6000054e+03 -2.7000054e+03  5.0851050e+03]]\n"
     ]
    }
   ],
   "source": [
    "with h5.File(\"../GSGM_bigMay10.h5\",\"r\") as h5f:\n",
    "    ntotal = h5f['jet_features'][:].shape[0]\n",
    "    particle = h5f['particle_features'][-1,:10,:4].astype(np.float32)\n",
    "    print(f\"SimpleLoader File {label}, Particle = \",particle)\n",
    "    genX = np.ravel(h5f['particle_features'][:100,:,1].astype(np.float32))"
   ]
  },
  {
   "cell_type": "code",
   "execution_count": 7,
   "id": "1ada41a4-2892-48b9-bd46-fd44574d91eb",
   "metadata": {},
   "outputs": [
    {
     "data": {
      "text/plain": [
       "(array([1245., 1359., 1896., 1920., 2325., 2175.,  363.,  100.,   31.,\n",
       "          13.]),\n",
       " array([ 100.,  320.,  540.,  760.,  980., 1200., 1420., 1640., 1860.,\n",
       "        2080., 2300.], dtype=float32),\n",
       " <BarContainer object of 10 artists>)"
      ]
     },
     "execution_count": 7,
     "metadata": {},
     "output_type": "execute_result"
    },
    {
     "data": {
      "image/png": "[encoded data removed]",
      "text/plain": [
       "<Figure size 432x288 with 1 Axes>"
      ]
     },
     "metadata": {
      "needs_background": "light"
     },
     "output_type": "display_data"
    }
   ],
   "source": [
    "plt.hist(genX[genX>0.001],label=\"genX\",color=\"red\")\n",
    "plt.hist(inpX[inpX>0.001],label=\"inputX\",color=\"blue\")"
   ]
  },
  {
   "cell_type": "code",
   "execution_count": null,
   "id": "98eba943-831f-47ce-b5e5-ca035ffc0391",
   "metadata": {},
   "outputs": [],
   "source": []
  }
 ],
 "metadata": {
  "kernelspec": {
   "display_name": "NERSC Python",
   "language": "python",
   "name": "python3"
  },
  "language_info": {
   "codemirror_mode": {
    "name": "ipython",
    "version": 3
   },
   "file_extension": ".py",
   "mimetype": "text/x-python",
   "name": "python",
   "nbconvert_exporter": "python",
   "pygments_lexer": "ipython3",
   "version": "3.9.7"
  }
 },
 "nbformat": 4,
 "nbformat_minor": 5
}
