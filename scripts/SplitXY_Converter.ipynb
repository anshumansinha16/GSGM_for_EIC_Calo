{
 "cells": [
  {
   "cell_type": "code",
   "execution_count": 1,
   "id": "44589043-b690-4129-bdda-92f9c9229acb",
   "metadata": {},
   "outputs": [],
   "source": [
    "import numpy as np\n",
    "import h5py\n",
    "from tqdm import tqdm"
   ]
  },
  {
   "cell_type": "code",
   "execution_count": 2,
   "id": "c1b807ae-5ef0-4c97-9ee6-0c07d576f82f",
   "metadata": {},
   "outputs": [
    {
     "name": "stdout",
     "output_type": "stream",
     "text": [
      "<KeysViewHDF5 ['cluster', 'hcal_cells']>\n"
     ]
    }
   ],
   "source": [
    "geant4_name = \"improved_200cells_FPCD.hdf5\"\n",
    "g4 = h5py.File(geant4_name, 'r')\n",
    "print(g4.keys())"
   ]
  },
  {
   "cell_type": "code",
   "execution_count": 29,
   "id": "fca470a3-bc60-4940-a318-7d84e471c9e2",
   "metadata": {},
   "outputs": [],
   "source": [
    "nevents = np.shape(g4['hcal_cells'])[0]\n",
    "#nevents = 100\n",
    "ncells = np.shape(g4['hcal_cells'])[1]\n",
    "nvar = np.shape(g4['hcal_cells'])[2] + 2\n",
    "ncluster_var = np.shape(g4['cluster'])[1]\n",
    "chunk_size = 100\n",
    "\n",
    "with h5py.File(f'splitXY_200cells_FPCD.hdf5', 'w') as newfile:\n",
    "    # create empty data set\n",
    "    dset = newfile.create_dataset('hcal_cells', \n",
    "                                shape=(nevents,ncells,nvar),\n",
    "                                maxshape=(nevents,ncells,nvar), \n",
    "                                chunks=(chunk_size, ncells, nvar),\n",
    "                                dtype=np.float32)\n",
    "\n",
    "    cluster_dset = newfile.create_dataset('cluster', data=g4['cluster'])\n",
    "    \n",
    "    \n",
    "    dset[:,:,0] = g4[\"hcal_cells\"][:nevents,:,0]   # E\n",
    "     \n",
    "    \n",
    "    \n",
    "    dset[:,:,1] = g4[\"hcal_cells\"][:nevents,:,1]  # X\n",
    "    dset[:,:,2] = g4[\"hcal_cells\"][:nevents,:,1]  # X\n",
    "    dset[:,:,1] = np.where(dset[:,:,1] < 0, dset[:,:,1], 0)  # Negative X\n",
    "    dset[:,:,2] = np.where(dset[:,:,2] > 0, dset[:,:,2], 0)  # Positive X\n",
    "    \n",
    "    dset[:,:,3] = g4[\"hcal_cells\"][:nevents,:,2]  # Y\n",
    "    dset[:,:,4] = g4[\"hcal_cells\"][:nevents,:,2]  # Y\n",
    "    dset[:,:,3] = np.where(dset[:,:,3] < 0, dset[:,:,3], 0)  # Negative Y\n",
    "    dset[:,:,4] = np.where(dset[:,:,4] > 0, dset[:,:,4], 0)  # Positive Y    \n",
    "    \n",
    "    dset[:,:,5] = g4[\"hcal_cells\"][:nevents,:,3]  # Z\n",
    "    dset[:,:,6] = g4[\"hcal_cells\"][:nevents,:,4]  # Mask"
   ]
  },
  {
   "cell_type": "code",
   "execution_count": 31,
   "id": "e9ab140a-0474-4234-ad41-2db85c71947d",
   "metadata": {},
   "outputs": [
    {
     "name": "stdout",
     "output_type": "stream",
     "text": [
      "<KeysViewHDF5 ['cluster', 'hcal_cells']>\n",
      "[500. 500. 500. 500. 500. 500. 500. 500. 500. 500. 500. 500. 500. 500.\n",
      " 500. 500. 500. 500. 500. 500. 500. 500. 500. 500. 700. 600. 600. 500.\n",
      " 300. 400. 300. 500. 600. 800. 700. 600. 700. 500. 700. 600. 600. 600.\n",
      " 500. 500. 500. 800. 800. 600. 600. 400. 500. 600. 400. 400. 400. 400.\n",
      " 700. 600. 600. 700. 700. 700. 500. 500. 400. 400. 500. 500. 600. 500.\n",
      " 600. 600. 700. 600. 500. 500. 500. 500. 500. 500. 500. 600. 600. 500.\n",
      " 500. 400. 500. 500. 600. 700. 500. 600. 600. 600. 700. 600. 600. 600.\n",
      " 700. 400.]\n"
     ]
    }
   ],
   "source": [
    "with h5py.File(f'splitXY_200cells_FPCD.hdf5', 'r') as testfile:\n",
    "    print(testfile.keys())\n",
    "    print(testfile['hcal_cells'][50,:100,4])"
   ]
  },
  {
   "cell_type": "code",
   "execution_count": null,
   "id": "6dc77391-0689-4fde-ab6e-274b956d82ce",
   "metadata": {},
   "outputs": [],
   "source": []
  }
 ],
 "metadata": {
  "kernelspec": {
   "display_name": "NERSC Python",
   "language": "python",
   "name": "python3"
  },
  "language_info": {
   "codemirror_mode": {
    "name": "ipython",
    "version": 3
   },
   "file_extension": ".py",
   "mimetype": "text/x-python",
   "name": "python",
   "nbconvert_exporter": "python",
   "pygments_lexer": "ipython3",
   "version": "3.9.7"
  }
 },
 "nbformat": 4,
 "nbformat_minor": 5
}
