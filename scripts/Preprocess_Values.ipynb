{
 "cells": [
  {
   "cell_type": "code",
   "execution_count": 1,
   "id": "0eae9556-cf06-413a-b53e-a1a2274bebca",
   "metadata": {},
   "outputs": [],
   "source": [
    "import h5py as h5\n",
    "import numpy as np\n",
    "import matplotlib.pyplot as plt\n",
    "import json"
   ]
  },
  {
   "cell_type": "code",
   "execution_count": 2,
   "id": "a33f39c3-6843-4d1b-9970-a8e70edc9728",
   "metadata": {},
   "outputs": [],
   "source": [
    "file_name = \"FPCD_17deg.hdf5\"\n",
    "h5_file = h5.File(file_name,'r')"
   ]
  },
  {
   "cell_type": "code",
   "execution_count": 3,
   "id": "503d4fff-3cb7-4e0c-84c4-62391cc9152d",
   "metadata": {},
   "outputs": [
    {
     "data": {
      "image/png": "[encoded data removed]",
      "text/plain": [
       "<Figure size 432x288 with 1 Axes>"
      ]
     },
     "metadata": {
      "needs_background": "light"
     },
     "output_type": "display_data"
    }
   ],
   "source": [
    "plt.hist((h5_file['cluster'][:10000,-1]),bins=100)\n",
    "plt.ylabel(\"Counts\")\n",
    "_=plt.xlabel(\"Number of Cells\")"
   ]
  },
  {
   "cell_type": "markdown",
   "id": "dee556ac-8e84-4948-aaf7-487fccfbf0da",
   "metadata": {},
   "source": [
    "### Cluster and Cell Dictionaries"
   ]
  },
  {
   "cell_type": "code",
   "execution_count": 4,
   "id": "a35c73de-2c12-4267-9395-cc3d1bd8deb3",
   "metadata": {},
   "outputs": [
    {
     "name": "stdout",
     "output_type": "stream",
     "text": [
      "Cluster Feature: 0\n",
      "Cluster Feature: 1\n",
      "Cluster Feature: 2\n",
      "Cluster Feature: 3\n"
     ]
    }
   ],
   "source": [
    "prep_vals = {\n",
    "    \"max_cluster\":[],\n",
    "    \"min_cluster\":[],\n",
    "    \"max_cell\":[],\n",
    "    \"min_cell\":[],\n",
    "    \"mean_cluster\":[],\n",
    "    \"std_cluster\":[],\n",
    "    \"mean_cell\":[],\n",
    "    \"std_cell\":[]\n",
    "}\n",
    "\n",
    "for feature in range(np.shape(h5_file['cluster'])[-1]):\n",
    "    prep_vals[\"max_cluster\"].append(np.max(h5_file['cluster'][:,feature]))\n",
    "    prep_vals[\"min_cluster\"].append(np.min(h5_file['cluster'][:,feature]))\n",
    "    prep_vals[\"mean_cluster\"].append(np.mean(h5_file['cluster'][:,feature]))\n",
    "    prep_vals[\"std_cluster\"].append(np.std(h5_file['cluster'][:,feature]))\n",
    "    print(f\"Cluster Feature: {feature}\")"
   ]
  },
  {
   "cell_type": "code",
   "execution_count": 5,
   "id": "7302cef7-b79c-4590-95a7-ecea9bad46df",
   "metadata": {},
   "outputs": [
    {
     "name": "stdout",
     "output_type": "stream",
     "text": [
      "Cell Feature: 0\n",
      "Cell Feature: 1\n",
      "Cell Feature: 2\n",
      "Cell Feature: 3\n",
      "Cell Feature: 4\n"
     ]
    }
   ],
   "source": [
    "for feature in range(np.shape(h5_file['hcal_cells'])[-1]):\n",
    "    prep_vals[\"max_cell\"].append(np.max(h5_file['hcal_cells'][:10000,:,feature]))\n",
    "    prep_vals[\"min_cell\"].append(np.min(h5_file['hcal_cells'][:10000,:,feature]))\n",
    "    prep_vals[\"mean_cell\"].append(np.mean(h5_file['hcal_cells'][:10000,:,feature]))\n",
    "    prep_vals[\"std_cell\"].append(np.std(h5_file['hcal_cells'][:10000,:,feature]))\n",
    "    print(f\"Cell Feature: {feature}\")"
   ]
  },
  {
   "cell_type": "code",
   "execution_count": null,
   "id": "2abe0a0f-5c84-4587-bbd1-01ef7a8552db",
   "metadata": {},
   "outputs": [],
   "source": []
  },
  {
   "cell_type": "code",
   "execution_count": 6,
   "id": "454df868-0153-429c-b0cb-951cb2fcb2ff",
   "metadata": {},
   "outputs": [],
   "source": [
    "class NumpyFloatValuesEncoder(json.JSONEncoder):\n",
    "    def default(self, obj):\n",
    "        if isinstance(obj, np.float32):\n",
    "            return float(obj)\n",
    "        return JSONEncoder.default(self, obj)\n",
    "jsn_dict = json.dumps(prep_vals, cls=NumpyFloatValuesEncoder)\n",
    "\n",
    "with open(\"preprocessing_calo.json\", \"w\") as outfile:\n",
    "    json.dump(jsn_dict, outfile)"
   ]
  },
  {
   "cell_type": "code",
   "execution_count": 7,
   "id": "e9b8ba1d-a1e6-4300-a659-81e1db60ca74",
   "metadata": {},
   "outputs": [],
   "source": [
    "def LoadJson(file_name):\n",
    "    import json,yaml,os\n",
    "    JSONPATH = os.path.join(file_name)\n",
    "    return yaml.safe_load(open(JSONPATH))"
   ]
  },
  {
   "cell_type": "code",
   "execution_count": 8,
   "id": "947a7cf4-8f02-4054-a736-2a75e1c49bcd",
   "metadata": {},
   "outputs": [],
   "source": [
    "npart=1000\n",
    "data_dict = LoadJson('preprocessing_{}.json'.format(npart))"
   ]
  },
  {
   "cell_type": "code",
   "execution_count": 9,
   "id": "3358bbd6-fae0-425e-97a1-4ea1a7e06ad2",
   "metadata": {},
   "outputs": [
    {
     "name": "stdout",
     "output_type": "stream",
     "text": [
      "[1.000004529953003, 15.567588806152344, 0.0, 0.0]\n"
     ]
    }
   ],
   "source": [
    "print(data_dict['min_cluster'])"
   ]
  },
  {
   "cell_type": "code",
   "execution_count": null,
   "id": "4aa04323-b307-4cc2-bfcb-e0f950c70b40",
   "metadata": {},
   "outputs": [],
   "source": []
  }
 ],
 "metadata": {
  "kernelspec": {
   "display_name": "NERSC Python",
   "language": "python",
   "name": "python3"
  },
  "language_info": {
   "codemirror_mode": {
    "name": "ipython",
    "version": 3
   },
   "file_extension": ".py",
   "mimetype": "text/x-python",
   "name": "python",
   "nbconvert_exporter": "python",
   "pygments_lexer": "ipython3",
   "version": "3.9.7"
  }
 },
 "nbformat": 4,
 "nbformat_minor": 5
}
