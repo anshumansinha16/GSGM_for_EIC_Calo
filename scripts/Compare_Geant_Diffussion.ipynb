{
 "cells": [
  {
   "cell_type": "code",
   "execution_count": 1,
   "id": "a16a4d30-7eb5-410f-8456-da1f6fb1e1a8",
   "metadata": {},
   "outputs": [],
   "source": [
    "import h5py\n",
    "import numpy as np\n",
    "import matplotlib.pyplot as plt\n",
    "from scipy import stats"
   ]
  },
  {
   "cell_type": "code",
   "execution_count": 2,
   "id": "92e01482-a215-435f-be35-baf043c86c2a",
   "metadata": {},
   "outputs": [],
   "source": [
    "#geant4_name = \"improved_200cells_FPCD.hdf5\"\n",
    "#geant4_name = \"smeared_200cells_FPCD.hdf5\"\n",
    "#geant4_name = 'improvedMIP_200cells_FPCD.hdf5'\n",
    "#geant4_name = \"smeared_20keV_200cells_FPCD.hdf5\"\n",
    "#geant4_name = \"newMIP_smeared_20keV_200cells_FPCD.hdf5\"\n",
    "geant4_name = \"G4_Discrete.h5\"\n",
    "\n",
    "\n",
    "#diffusion_name = \"GSGM_MaskedMean.h5\"\n",
    "#diffusion_name = \"GSGM_spikes.h5\"\n",
    "#diffusion_name = \"GSGM_nospikes_300Epochs.h5\"\n",
    "#diffusion_name = \"GSGM.h5\"\n",
    "diffusion_name = \"GSGM_Discrete.h5\"\n",
    "\n",
    "\n",
    "#diffusion_name = \"GSGM_Discrete.h5\"\n",
    "#diffusion_name = \"GSGM_norevert.h5\"\n",
    "#diffusion_name = \"GSGM_Discrete.h5\"\n",
    "\n",
    "g4 = h5py.File(geant4_name, 'r')\n",
    "dfsn = h5py.File(diffusion_name,'r')\n",
    "\n",
    "g4.keys()\n",
    "#dfsn.keys()\n",
    "\n",
    "nevts = 10_000"
   ]
  },
  {
   "cell_type": "code",
   "execution_count": 3,
   "id": "5af7ee21-5623-4079-ab53-2bf01fd861f4",
   "metadata": {},
   "outputs": [
    {
     "name": "stdout",
     "output_type": "stream",
     "text": [
      "(10000, 200, 4)\n",
      "(1793500, 200, 5)\n"
     ]
    }
   ],
   "source": [
    "print(np.shape(dfsn['cell_features']))\n",
    "print(np.shape(g4['hcal_cells']))"
   ]
  },
  {
   "cell_type": "code",
   "execution_count": 4,
   "id": "2e28ae52-3195-4ff6-b62f-9eb6cf1e5da7",
   "metadata": {},
   "outputs": [],
   "source": [
    "MASK = g4['hcal_cells'][:nevts,:,-1] == 1\n",
    "not_MASK = g4['hcal_cells'][:nevts,:,-1] == 0\n",
    "neg_MASK = g4['hcal_cells'][:nevts,:,-1] == -0"
   ]
  },
  {
   "cell_type": "code",
   "execution_count": 5,
   "id": "cfd8be76-ac89-4696-a9b4-777549f02be3",
   "metadata": {},
   "outputs": [
    {
     "name": "stdout",
     "output_type": "stream",
     "text": [
      "[[1. 1. 1. ... 0. 0. 0.]\n",
      " [1. 1. 1. ... 0. 0. 0.]\n",
      " [1. 1. 1. ... 0. 0. 0.]\n",
      " ...\n",
      " [1. 1. 1. ... 0. 0. 0.]\n",
      " [1. 1. 1. ... 0. 0. 0.]\n",
      " [1. 1. 1. ... 0. 0. 0.]]\n"
     ]
    }
   ],
   "source": [
    "print(g4['hcal_cells'][:nevts,:,-1])"
   ]
  },
  {
   "cell_type": "code",
   "execution_count": 6,
   "id": "b25b159a-7b92-4179-8c1e-755ef484cc94",
   "metadata": {},
   "outputs": [],
   "source": [
    "MASK = np.ravel(MASK)\n",
    "not_MASK = np.ravel(not_MASK)\n",
    "neg_MASK = np.ravel(neg_MASK)"
   ]
  },
  {
   "cell_type": "code",
   "execution_count": 7,
   "id": "af9a6ea0-d3de-4427-b5de-0668e862b09d",
   "metadata": {},
   "outputs": [
    {
     "name": "stdout",
     "output_type": "stream",
     "text": [
      "[False False False False False False False False False False]\n"
     ]
    }
   ],
   "source": [
    "print(MASK[-10:])"
   ]
  },
  {
   "cell_type": "code",
   "execution_count": 8,
   "id": "605423af-3bc3-45c4-97c5-ced7032236e2",
   "metadata": {},
   "outputs": [
    {
     "data": {
      "text/plain": [
       "array([-3.3814197, -3.1688182, -3.3165274, ..., -3.0273418, -3.3055716,\n",
       "       -2.8314812], dtype=float32)"
      ]
     },
     "execution_count": 8,
     "metadata": {},
     "output_type": "execute_result"
    }
   ],
   "source": [
    "g4_cellsE = np.ravel(g4['hcal_cells'][:nevts,:,0])\n",
    "dfsn_cellsE = np.ravel(dfsn['cell_features'][:,:,0])\n",
    "\n",
    "mask = g4_cellsE != 0.0\n",
    "mask_dfsn = dfsn_cellsE != 0\n",
    "\n",
    "np.log10(g4_cellsE[mask])"
   ]
  },
  {
   "cell_type": "code",
   "execution_count": 9,
   "id": "066195d8-caf2-4b05-bd11-b81a5444c5ed",
   "metadata": {},
   "outputs": [
    {
     "data": {
      "text/plain": [
       "0.00029518278"
      ]
     },
     "execution_count": 9,
     "metadata": {},
     "output_type": "execute_result"
    }
   ],
   "source": [
    "np.min(g4_cellsE[mask])"
   ]
  },
  {
   "cell_type": "code",
   "execution_count": 10,
   "id": "eebf0502-c243-4565-a435-d9f51f2942e4",
   "metadata": {},
   "outputs": [
    {
     "data": {
      "image/png": "[encoded data removed]",
      "text/plain": [
       "<Figure size 432x288 with 1 Axes>"
      ]
     },
     "metadata": {
      "needs_background": "light"
     },
     "output_type": "display_data"
    }
   ],
   "source": [
    "cellsE_bins = np.linspace(0,0.001,200)\n",
    "\n",
    "plt.hist(np.ravel((np.log10(g4_cellsE[MASK]))),bins=100,alpha=0.5,label=\"G4 EPIC\",color=\"red\")\n",
    "plt.hist(np.ravel(dfsn_cellsE[mask_dfsn]),bins=100,alpha=0.5,label=\"FPCD\",color=\"blue\")\n",
    "#plt.ylim(0,0.8e7)\n",
    "plt.legend()\n",
    "_ = plt.title(\"Cell Log10 Energy Distribution\")\n",
    "plt.savefig(\"CellE.pdf\")"
   ]
  },
  {
   "cell_type": "code",
   "execution_count": 11,
   "id": "2c2bc02a-a5a8-4371-ad78-b5143c376bad",
   "metadata": {},
   "outputs": [
    {
     "name": "stdout",
     "output_type": "stream",
     "text": [
      "[False False False ... False False False]\n"
     ]
    }
   ],
   "source": [
    "print(g4_cellsE[mask]==0)"
   ]
  },
  {
   "cell_type": "code",
   "execution_count": 12,
   "id": "0118ab61-82f7-4b4c-afcf-abc50ffb7df3",
   "metadata": {
    "tags": []
   },
   "outputs": [],
   "source": [
    "import json, os\n",
    "def LoadJson(file_name):\n",
    "    import json,yaml\n",
    "    JSONPATH = os.path.join(file_name)\n",
    "    return yaml.safe_load(open(JSONPATH))\n",
    "\n",
    "data_dict = LoadJson('preprocessing_200.json')\n",
    "\n",
    "def revert_logit(x):\n",
    "    alpha = 1e-6\n",
    "    exp = np.exp(x)\n",
    "    x = exp/(1+exp)\n",
    "    return (x-alpha)/(1 - 2*alpha)\n",
    "\n",
    "def revert(x,name='cell'):\n",
    "    x = x*data_dict['std_{}'.format(name)] + data_dict['mean_{}'.format(name)]\n",
    "    x = revert_logit(x)\n",
    "    x = x * (np.array(data_dict['max_{}'.format(name)]) -data_dict['min_{}'.format(name)]) + data_dict['min_{}'.format(name)]\n",
    "    return x"
   ]
  },
  {
   "cell_type": "code",
   "execution_count": 13,
   "id": "eb2203fe-331a-4dae-8a55-76484b46f085",
   "metadata": {},
   "outputs": [],
   "source": [
    "dfsn_cells = dfsn['cell_features'][:,:,:]"
   ]
  },
  {
   "cell_type": "raw",
   "id": "2e6cc38a-7e8f-4192-8f03-b2b3dc027a00",
   "metadata": {},
   "source": [
    "g4_cellsX = g4['hcal_cells'][:nevts,:,1]\n",
    "g4_cellsY = g4['hcal_cells'][:nevts,:,2]\n",
    "g4_cellsZ = g4['hcal_cells'][:nevts,:,3]\n",
    "g4_cellsE = g4['hcal_cells'][:nevts,:,0]\n",
    "\n",
    "MASK = g4['hcal_cells'][:nevts,:,-1] == 1\n",
    "print(np.shape(g4_cellsX))\n",
    "masked_X = g4_cellsX[MASK]\n",
    "masked_Y = g4_cellsY[MASK]\n",
    "masked_Z = g4_cellsZ[MASK]\n",
    "masked_E = g4_cellsE[MASK]"
   ]
  },
  {
   "cell_type": "raw",
   "id": "65f324ad-6bb8-458a-8449-ff2565605c41",
   "metadata": {},
   "source": [
    "indecies = np.where(masked_Y == 0.0)"
   ]
  },
  {
   "cell_type": "raw",
   "id": "78a3f574-48a7-41b5-ad21-2254f3b01d94",
   "metadata": {},
   "source": [
    "print(masked_E[indecies])\n",
    "print(masked_Z[indecies])\n",
    "print(masked_Y[indecies])\n",
    "print(masked_X[indecies])"
   ]
  },
  {
   "cell_type": "code",
   "execution_count": null,
   "id": "2071227b-24d4-486d-8fc3-c976d5e83a9a",
   "metadata": {},
   "outputs": [],
   "source": []
  },
  {
   "cell_type": "code",
   "execution_count": 34,
   "id": "0d939d4b-c8dd-41a8-b2b7-6c662ab57f8f",
   "metadata": {},
   "outputs": [
    {
     "name": "stdout",
     "output_type": "stream",
     "text": [
      "[-1300. -1500. -1200. ...     0.     0.     0.]\n"
     ]
    },
    {
     "data": {
      "image/png": "[encoded data removed]",
      "text/plain": [
       "<Figure size 432x288 with 1 Axes>"
      ]
     },
     "metadata": {
      "needs_background": "light"
     },
     "output_type": "display_data"
    }
   ],
   "source": [
    "g4_cellsX = np.ravel(g4['hcal_cells'][:nevts,:,1])\n",
    "dfsn_cellsX = np.ravel(dfsn['cell_features'][:,:,1])\n",
    "\n",
    "dfsn_cellsZ = np.ravel(dfsn['cell_features'][:,:,3])\n",
    "print(dfsn_cellsX)\n",
    "\n",
    "\n",
    "\n",
    "#g4_cellsX = g4_cellsX[not_MASK]\n",
    "g4_cellsX = g4_cellsX[MASK]\n",
    "#g4_cellsX = g4_cellsX[neg_MASK]\n",
    "\n",
    "#g4_cellsX = g4_cellsX[g4_cellsX != 0]\n",
    "dfsn_cellsX = dfsn_cellsX[dfsn_cellsZ != 0]\n",
    "\n",
    "#g4_xmask = np.abs(g4_cellsX)>= 0\n",
    "#print(np.max(g4_cellsX[g4_xmask]))\n",
    "#x_mask = np.abs(dfsn_cellsX)>=100\n",
    "\n",
    "#cellsE_bins = np.linspace(0,0.001,1000)\n",
    "x_bins = np.linspace(-2700,2700,108)\n",
    "plt.hist(np.ravel(g4_cellsX),bins=x_bins,alpha=0.5,label=\"G4 EPIC\",color=\"red\",density=False)\n",
    "plt.hist(np.ravel(dfsn_cellsX),bins=x_bins,alpha=0.5,label=\"FPCD\",color=\"blue\",density=False)\n",
    "plt.legend()\n",
    "\n",
    "_ = plt.title(\"Cell X Distribution\")\n",
    "plt.savefig(\"CellX.pdf\")"
   ]
  },
  {
   "cell_type": "code",
   "execution_count": 15,
   "id": "6c5d59a9-8d1a-4678-9875-8662e007d596",
   "metadata": {},
   "outputs": [
    {
     "name": "stdout",
     "output_type": "stream",
     "text": [
      "ModeResult(mode=array([-1300.], dtype=float32), count=array([32748]))\n"
     ]
    }
   ],
   "source": [
    "print(stats.mode(dfsn_cellsX))"
   ]
  },
  {
   "cell_type": "code",
   "execution_count": 16,
   "id": "f232ee1e-2735-4b21-849a-2824eaecdf2a",
   "metadata": {},
   "outputs": [
    {
     "name": "stdout",
     "output_type": "stream",
     "text": [
      "-100.0\n"
     ]
    }
   ],
   "source": [
    "g4_test = g4_cellsX[g4_cellsX<0]\n",
    "print(np.max(g4_test))"
   ]
  },
  {
   "cell_type": "code",
   "execution_count": null,
   "id": "e70f5576-d7a6-4fc0-bc62-51e55b6da8ef",
   "metadata": {},
   "outputs": [],
   "source": []
  },
  {
   "cell_type": "code",
   "execution_count": 36,
   "id": "dac937ad-c3d6-433a-bd93-fbd07126b777",
   "metadata": {},
   "outputs": [
    {
     "data": {
      "image/png": "[encoded data removed]",
      "text/plain": [
       "<Figure size 432x288 with 1 Axes>"
      ]
     },
     "metadata": {
      "needs_background": "light"
     },
     "output_type": "display_data"
    }
   ],
   "source": [
    "g4_cellsY = np.ravel(g4['hcal_cells'][:nevts,:,2])\n",
    "dfsn_cellsY = np.ravel(dfsn['cell_features'][:,:,2])\n",
    "\n",
    "g4_cellsY = g4_cellsY[MASK]\n",
    "dfsn_cellsY = dfsn_cellsY[dfsn_cellsZ != 0]\n",
    "\n",
    "y_mask = np.abs(dfsn_cellsY)>=100\n",
    "\n",
    "#cellsE_bins = np.linspace(0,0.001,1000)\n",
    "y_bins = np.linspace(-2700,2700,108)\n",
    "plt.hist(np.ravel(g4_cellsY),bins=y_bins,alpha=0.5,label=\"G4 EPIC\",color=\"red\")\n",
    "plt.hist(np.ravel(dfsn_cellsY),bins=y_bins,alpha=0.5,label=\"FPCD\",color=\"blue\")\n",
    "plt.legend()\n",
    "_ = plt.title(\"Cell Y Distribution\")\n",
    "plt.savefig(\"CellY.pdf\")"
   ]
  },
  {
   "cell_type": "code",
   "execution_count": 18,
   "id": "d82875aa-31a6-4e69-82c6-9b97baae9918",
   "metadata": {},
   "outputs": [
    {
     "name": "stdout",
     "output_type": "stream",
     "text": [
      "-2500.0\n"
     ]
    }
   ],
   "source": [
    "print(np.min(dfsn_cellsY))"
   ]
  },
  {
   "cell_type": "code",
   "execution_count": 19,
   "id": "f01299c2-71cc-4853-a5eb-a9639a4694fc",
   "metadata": {},
   "outputs": [
    {
     "name": "stdout",
     "output_type": "stream",
     "text": [
      "ModeResult(mode=array([1200.], dtype=float32), count=array([32191]))\n"
     ]
    }
   ],
   "source": [
    "print(stats.mode(dfsn_cellsY))"
   ]
  },
  {
   "cell_type": "code",
   "execution_count": 30,
   "id": "f850c096-ffcb-45eb-855e-06c14f96f824",
   "metadata": {},
   "outputs": [
    {
     "data": {
      "image/png": "[encoded data removed]",
      "text/plain": [
       "<Figure size 432x288 with 1 Axes>"
      ]
     },
     "metadata": {
      "needs_background": "light"
     },
     "output_type": "display_data"
    }
   ],
   "source": [
    "g4_cellsZ = np.ravel(g4['hcal_cells'][:nevts,:,3])\n",
    "dfsn_cellsZ = np.ravel(dfsn['cell_features'][:,:,3])\n",
    "\n",
    "g4_cellsZ = g4_cellsZ[g4_cellsZ != 0]\n",
    "dfsn_cellsZ = dfsn_cellsZ[dfsn_cellsZ != 0]\n",
    "\n",
    "cellsz_bins = np.linspace(3800,5000,105)\n",
    "plt.hist(np.ravel(g4_cellsZ),bins=cellsz_bins,alpha=0.5,label=\"G4 EPIC\",color=\"red\")\n",
    "plt.hist(np.ravel(dfsn_cellsZ),bins = cellsz_bins, alpha=0.5,label=\"FPCD\",color=\"blue\")\n",
    "plt.legend()\n",
    "#plt.ylim(0,0.04e7)\n",
    "_ = plt.title(\"Cell Z Distribution\")\n",
    "plt.savefig(\"CellZ.pdf\")"
   ]
  },
  {
   "cell_type": "code",
   "execution_count": 21,
   "id": "4628d907-b448-463a-ba2a-07431d6dece5",
   "metadata": {},
   "outputs": [
    {
     "name": "stdout",
     "output_type": "stream",
     "text": [
      "ModeResult(mode=array([4032.1], dtype=float32), count=array([21129]))\n",
      "4149.1\n"
     ]
    }
   ],
   "source": [
    "print(stats.mode(dfsn_cellsZ))\n",
    "print(np.median(g4_cellsZ))"
   ]
  },
  {
   "cell_type": "code",
   "execution_count": 22,
   "id": "601f691c-9af3-437f-8c9b-0514a5f465fa",
   "metadata": {},
   "outputs": [
    {
     "data": {
      "image/png": "[encoded data removed]",
      "text/plain": [
       "<Figure size 432x288 with 1 Axes>"
      ]
     },
     "metadata": {
      "needs_background": "light"
     },
     "output_type": "display_data"
    }
   ],
   "source": [
    "g4_NCells = np.ravel(g4['cluster'][:nevts,-2])\n",
    "dfsn_NCells = np.ravel(dfsn['cluster_features'][:,-2])\n",
    "                       \n",
    "plt.hist(np.ravel(g4_NCells),alpha=0.5,bins=50,label=\"G4 EPIC\",color=\"red\")\n",
    "plt.hist(np.ravel(dfsn_NCells),alpha=0.5,bins=50,label=\"FPCD\",color=\"blue\")\n",
    "plt.legend()\n",
    "plt.title(\"Cluster Sum E\")\n",
    "plt.savefig(\"ClusterSumE.pdf\")"
   ]
  },
  {
   "cell_type": "code",
   "execution_count": 23,
   "id": "080ee64e-ff65-49d2-89c5-5701eb3d5ef7",
   "metadata": {},
   "outputs": [
    {
     "data": {
      "image/png": "[encoded data removed]",
      "text/plain": [
       "<Figure size 432x288 with 1 Axes>"
      ]
     },
     "metadata": {
      "needs_background": "light"
     },
     "output_type": "display_data"
    }
   ],
   "source": [
    "g4_Esum = np.ravel(g4['cluster'][:nevts,3])\n",
    "dfsn_Esum = np.ravel(dfsn['cluster_features'][:,-1])\n",
    "                       \n",
    "plt.hist(np.ravel(g4_Esum),bins=np.linspace(0,200,20),alpha=0.5,label=\"G4 EPIC\",color=\"red\")\n",
    "plt.hist(np.ravel(dfsn_Esum),bins=np.linspace(0,200,20),alpha=0.5,label=\"FPCD\",color=\"blue\")\n",
    "plt.legend()\n",
    "plt.title(\"Number of Cells\")\n",
    "plt.savefig(\"NCells.pdf\")"
   ]
  },
  {
   "cell_type": "code",
   "execution_count": null,
   "id": "96c9c5cb-684d-40ff-b5de-d6a3206c9791",
   "metadata": {},
   "outputs": [],
   "source": []
  }
 ],
 "metadata": {
  "kernelspec": {
   "display_name": "NERSC Python",
   "language": "python",
   "name": "python3"
  },
  "language_info": {
   "codemirror_mode": {
    "name": "ipython",
    "version": 3
   },
   "file_extension": ".py",
   "mimetype": "text/x-python",
   "name": "python",
   "nbconvert_exporter": "python",
   "pygments_lexer": "ipython3",
   "version": "3.9.7"
  }
 },
 "nbformat": 4,
 "nbformat_minor": 5
}
