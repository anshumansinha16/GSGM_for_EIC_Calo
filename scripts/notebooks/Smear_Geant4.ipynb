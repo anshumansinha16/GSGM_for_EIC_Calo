{
 "cells": [
  {
   "cell_type": "markdown",
   "id": "c24a4677-a0d6-4caa-9639-e81e16e39163",
   "metadata": {
    "tags": []
   },
   "source": [
    "### Notebook to Smear G4 data to be continuous, and easier to train"
   ]
  },
  {
   "cell_type": "code",
   "execution_count": 1,
   "id": "8159f189-1867-471f-a9d3-a5ad1056fb75",
   "metadata": {},
   "outputs": [],
   "source": [
    "import h5py\n",
    "import numpy as np\n",
    "from tqdm import tqdm"
   ]
  },
  {
   "cell_type": "code",
   "execution_count": 2,
   "id": "5ed62238-8673-4b1c-92df-ff9b23d175ac",
   "metadata": {},
   "outputs": [
    {
     "name": "stdout",
     "output_type": "stream",
     "text": [
      "<KeysViewHDF5 ['cluster', 'hcal_cells']>\n"
     ]
    }
   ],
   "source": [
    "#geant4_name = \"improved_200cells_FPCD.hdf5\"\n",
    "geant4_name = \"improvedMIP_200cells_FPCD.hdf5\"\n",
    "g4 = h5py.File(geant4_name, 'r')\n",
    "print(g4.keys())\n",
    "chunk_size=2000\n",
    "nevts=100_000"
   ]
  },
  {
   "cell_type": "code",
   "execution_count": 3,
   "id": "fbf43024-e277-474f-8abf-3067a0731d96",
   "metadata": {},
   "outputs": [],
   "source": [
    "def get_bin_edges(g4_cell_data):\n",
    "    centers = np.unique(g4_cell_data)\n",
    "    if (centers[0] == 0):\n",
    "        centers = centers[1:]\n",
    "    width = np.round(centers[1] - centers[0],2)\n",
    "\n",
    "    edges = centers - width/2\n",
    "    max_edge = centers[-1] + width/2\n",
    "    edges = (np.append(edges,max_edge))\n",
    "    \n",
    "    return centers, edges"
   ]
  },
  {
   "cell_type": "code",
   "execution_count": 4,
   "id": "18e7f5b0-ac8e-4f9f-9d6f-32b21f839102",
   "metadata": {},
   "outputs": [],
   "source": [
    "def get_bin_width(g4_cell_data):\n",
    "    centers = np.unique(g4_cell_data)\n",
    "    if (centers[0] == 0):\n",
    "        centers = centers[1:]\n",
    "        \n",
    "    width = np.round(centers[1] - centers[0],2)\n",
    "    \n",
    "    return width"
   ]
  },
  {
   "cell_type": "code",
   "execution_count": 5,
   "id": "7799c7cb-2a27-4862-83eb-903e685b47ef",
   "metadata": {},
   "outputs": [
    {
     "name": "stdout",
     "output_type": "stream",
     "text": [
      "dict_keys(['widthE', 'widthX', 'widthY', 'widthZ'])\n"
     ]
    }
   ],
   "source": [
    "bin_dict = {}\n",
    "var_str = [\"E\",\"X\",\"Y\",\"Z\"]\n",
    "\n",
    "for var in range(0,4):\n",
    "    g4_data = g4['hcal_cells'][:nevts,:,var]\n",
    "    width = get_bin_width(g4_data)\n",
    "    \n",
    "    if var == 0:\n",
    "        width = 2e-5  # 1keV in terms of GeV\n",
    "    bin_dict[f\"width{var_str[var]}\"] = width \n",
    "\n",
    "print(bin_dict.keys())"
   ]
  },
  {
   "cell_type": "code",
   "execution_count": 6,
   "id": "f347c0c1-cd36-44b9-8001-1b0950fc4814",
   "metadata": {},
   "outputs": [
    {
     "name": "stdout",
     "output_type": "stream",
     "text": [
      "2e-05\n"
     ]
    }
   ],
   "source": [
    "print((bin_dict[\"widthE\"]))"
   ]
  },
  {
   "cell_type": "code",
   "execution_count": 7,
   "id": "ffacee12-9865-482f-ab69-0837c7ef692c",
   "metadata": {
    "tags": []
   },
   "outputs": [
    {
     "name": "stdout",
     "output_type": "stream",
     "text": [
      "Width 2e-05: 0.0004150390741415322 + 4.6990508445058993e-07\n",
      "Width 2e-05: 0.001800537109375 + -6.969914211151736e-06\n",
      "Width 2e-05: 0.0006164551014080644 + 8.905074108373511e-07\n",
      "Width 2e-05: 0.0005371093866415322 + -6.3630235298792795e-06\n",
      "Width 2e-05: 0.0005676269647665322 + 2.208986413052693e-06\n",
      "Width 2e-05: 0.0004394531133584678 + -9.404825517437735e-06\n",
      "Width 2e-05: 0.0037353516090661287 + 8.164348647285828e-07\n",
      "Width 2e-05: 0.000579833984375 + 8.840510119716391e-06\n",
      "Width 2e-05: 0.0010925292735919356 + -5.184375666847834e-06\n",
      "Width 2e-05: 0.0013000487815588713 + -3.6400044848608155e-06\n",
      "Width 100.0: 1000.0 + 8.547537884286285\n",
      "Width 100.0: -1300.0 + -36.40003176831544\n",
      "Width 100.0: 1000.0 + 11.413697649052835\n",
      "Width 100.0: 900.0 + 46.37272303983168\n",
      "Width 100.0: -700.0 + -31.290632352256743\n",
      "Width 100.0: -1200.0 + -10.74823408299396\n",
      "Width 100.0: -900.0 + 28.06837297827697\n",
      "Width 100.0: 400.0 + 48.682511977218425\n",
      "Width 100.0: -1300.0 + 13.066723527304127\n",
      "Width 100.0: -900.0 + -43.55534136468211\n",
      "Width 100.0: 300.0 + -5.121027595707808\n",
      "Width 100.0: 100.0 + -17.36895942714787\n",
      "Width 100.0: -200.0 + 15.731689664539829\n",
      "Width 100.0: 500.0 + 24.418245075889033\n",
      "Width 100.0: -1000.0 + 2.6646982086118953\n",
      "Width 100.0: 400.0 + -33.09343397236534\n",
      "Width 100.0: -800.0 + -14.269974381442005\n",
      "Width 100.0: 1100.0 + -34.08906923609042\n",
      "Width 100.0: -100.0 + -29.879392045687137\n",
      "Width 100.0: -900.0 + 33.101458834165555\n",
      "Width 23.399999618530273: 3821.5 + -3.530353972457478\n",
      "Width 23.399999618530273: 3844.89990234375 + -7.953189593587878\n",
      "Width 23.399999618530273: 3821.5 + -5.1917245723518715\n",
      "Width 23.399999618530273: 3821.5 + -2.8239559462296135\n",
      "Width 23.399999618530273: 3844.89990234375 + -9.48957145211479\n",
      "Width 23.399999618530273: 3821.5 + 5.0589157182288425\n",
      "Width 23.399999618530273: 3821.5 + -10.26570582096947\n",
      "Width 23.399999618530273: 3821.5 + -1.5713454832010765\n",
      "Width 23.399999618530273: 3821.5 + 0.8662380346584655\n",
      "Width 23.399999618530273: 3821.5 + -9.778132389242995\n"
     ]
    }
   ],
   "source": [
    "nevents = np.shape(g4['hcal_cells'])[0]\n",
    "#nevents = 100\n",
    "\n",
    "ncells = np.shape(g4['hcal_cells'])[1]\n",
    "nvar = np.shape(g4['hcal_cells'])[2]\n",
    "ncluster_var = np.shape(g4['cluster'])[1]\n",
    "chunk_size = 100\n",
    "\n",
    "with h5py.File(f'newMIP_smeared_20keV_200cells_FPCD.hdf5', 'w') as newfile:\n",
    "    # create empty data set\n",
    "    dset = newfile.create_dataset('hcal_cells', \n",
    "                                shape=(nevents,ncells,nvar),\n",
    "                                maxshape=(nevents,ncells,nvar), \n",
    "                                chunks=(chunk_size, ncells, nvar),\n",
    "                                dtype=np.float32)\n",
    "\n",
    "\n",
    "\n",
    "    cluster_dset = newfile.create_dataset('cluster', data=g4['cluster'])\n",
    "    \n",
    "    #MASK = np.where(g4['hcal_cells'][:nevents,:,-1] == 1)\n",
    "    MASK = g4['hcal_cells'][:nevents,:,-1]\n",
    "    dset[:nevents,:,-1] = MASK\n",
    "    for var in range(0,4):\n",
    "        \n",
    "        width = bin_dict[f\"width{var_str[var]}\"]\n",
    "        g4_data = g4['hcal_cells'][:nevents,:,var]\n",
    "        smear = np.random.default_rng().uniform(low=-width/2,high=width/2, size=np.shape(g4_data))\n",
    "        for test in range(10):\n",
    "            print(f\"Width {width}: {g4_data[test,0]} + {smear[test,0]}\")\n",
    "        dset[:nevents,:,var] = (g4_data + smear)*MASK"
   ]
  },
  {
   "cell_type": "code",
   "execution_count": 8,
   "id": "183e111e-8e68-4683-8e08-6ff92dc9afd9",
   "metadata": {},
   "outputs": [
    {
     "name": "stdout",
     "output_type": "stream",
     "text": [
      "[ 4.8840826e-04 -6.3959076e+02  1.0702521e+03  4.0657200e+03\n",
      "  1.0000000e+00]\n"
     ]
    }
   ],
   "source": [
    "with h5py.File(f'smeared_20keV_200cells_FPCD.hdf5', 'r') as disc:\n",
    "    print(disc[\"hcal_cells\"][10,10,:])"
   ]
  },
  {
   "cell_type": "code",
   "execution_count": 9,
   "id": "092a42e2-a72d-4d1e-8a38-7e5356594151",
   "metadata": {},
   "outputs": [
    {
     "name": "stdout",
     "output_type": "stream",
     "text": [
      "[3821.5 3844.9 3868.3 3915.1 3938.5 3938.5 3891.7 3844.9 3868.3 3915.1]\n"
     ]
    }
   ],
   "source": [
    "print(g4[\"hcal_cells\"][100,:10,3])"
   ]
  },
  {
   "cell_type": "code",
   "execution_count": null,
   "id": "9570245e-e52d-4698-8550-21a69c6ad70b",
   "metadata": {},
   "outputs": [],
   "source": []
  }
 ],
 "metadata": {
  "kernelspec": {
   "display_name": "NERSC Python",
   "language": "python",
   "name": "python3"
  },
  "language_info": {
   "codemirror_mode": {
    "name": "ipython",
    "version": 3
   },
   "file_extension": ".py",
   "mimetype": "text/x-python",
   "name": "python",
   "nbconvert_exporter": "python",
   "pygments_lexer": "ipython3",
   "version": "3.9.7"
  }
 },
 "nbformat": 4,
 "nbformat_minor": 5
}
