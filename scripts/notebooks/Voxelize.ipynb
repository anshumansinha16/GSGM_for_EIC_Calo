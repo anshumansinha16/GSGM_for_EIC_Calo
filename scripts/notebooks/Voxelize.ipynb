{
 "cells": [
  {
   "cell_type": "markdown",
   "id": "c24a4677-a0d6-4caa-9639-e81e16e39163",
   "metadata": {
    "tags": []
   },
   "source": [
    "### HDF5 Stuff"
   ]
  },
  {
   "cell_type": "code",
   "execution_count": null,
   "id": "5ed62238-8673-4b1c-92df-ff9b23d175ac",
   "metadata": {},
   "outputs": [
    {
     "name": "stdout",
     "output_type": "stream",
     "text": [
      "[E, X, Y, Z]\n",
      "[ 2.1972656e-04 -1.5000000e+03  1.0000000e+02  4.1257002e+03]\n",
      "[ 2.746582e-04 -1.300000e+03  0.000000e+00  3.915100e+03]\n",
      "[ 8.544922e-05 -1.200000e+03  1.000000e+02  3.961900e+03]\n",
      "[ 7.93457e-05 -1.20000e+03  1.00000e+02  3.91510e+03]\n",
      "[ 9.765625e-05 -1.300000e+03  2.000000e+02  3.868300e+03]\n"
     ]
    }
   ],
   "source": [
    "import h5py\n",
    "geant4_name = \"improved_200cells_FPCD.hdf5\"\n",
    "f = h5py.File(h5_filename, 'r')\n",
    "f.keys()\n",
    "chunk_size=2000\n",
    "\n",
    "print(\"[E, X, Y, Z]\")\n",
    "for i in range(5):\n",
    "    print(f['hcal_cells'][1,i,:-1]) #XYZ, skip mask"
   ]
  },
  {
   "cell_type": "code",
   "execution_count": null,
   "id": "55c015cd-363f-48f3-abbb-6953baf2ebf3",
   "metadata": {},
   "outputs": [
    {
     "name": "stdout",
     "output_type": "stream",
     "text": [
      "143\n"
     ]
    }
   ],
   "source": [
    "h5_indexE = 0\n",
    "h5_indexX = 1\n",
    "h5_indexY = 2\n",
    "h5_indexZ = 3"
   ]
  },
  {
   "cell_type": "code",
   "execution_count": null,
   "id": "2883ee95-c8c3-475f-be1e-4b696d3cdc27",
   "metadata": {},
   "outputs": [
    {
     "name": "stdout",
     "output_type": "stream",
     "text": [
      "(1793700, 200, 5)\n"
     ]
    }
   ],
   "source": [
    "import numpy as np\n",
    "print(np.shape(f['hcal_cells']))"
   ]
  },
  {
   "cell_type": "markdown",
   "id": "6d170283-d776-49c6-87af-bd20e2c89871",
   "metadata": {
    "tags": []
   },
   "source": [
    "### Detector Parameters XYZ"
   ]
  },
  {
   "cell_type": "code",
   "execution_count": 13,
   "id": "d8a956c0-ff9a-45d2-bf1c-ba7f88ad5d7f",
   "metadata": {},
   "outputs": [
    {
     "name": "stdout",
     "output_type": "stream",
     "text": [
      "13\n"
     ]
    }
   ],
   "source": [
    "voxel_factor=4\n",
    "\n",
    "minXY = -2700\n",
    "maxXY = 2700\n",
    "widthXY = 100\n",
    "ncellsXY = int(((maxXY-minXY)/widthXY)/voxel_factor)\n",
    "binningXY = np.linspace(minXY,maxXY,ncellsXY+1)\n",
    "\n",
    "minZ = 3820\n",
    "maxZ = 4991\n",
    "widthZ = 23.4\n",
    "ncellsZ = int((((maxZ-minZ)/widthZ)+3)/voxel_factor)\n",
    "binningZ = np.linspace(minZ,maxZ,ncellsZ+1)\n",
    "print(ncellsZ)\n",
    "\n",
    "n_truth_features = 2"
   ]
  },
  {
   "cell_type": "markdown",
   "id": "bc96b1ef-0e8d-4881-8092-172c2b5877fe",
   "metadata": {},
   "source": [
    "## CaloScore takes [N,Z,X,Y] images. Our HDF5 files have [N,X,Y,Z]. Swap Z with X, and then X with Y"
   ]
  },
  {
   "cell_type": "code",
   "execution_count": 5,
   "id": "a3b48c85-40f3-4472-9cc1-4a6466b3cce9",
   "metadata": {},
   "outputs": [
    {
     "name": "stdout",
     "output_type": "stream",
     "text": [
      "original:\n",
      "[[4.1503907e-04 1.0000000e+03 7.7777772e+00 3.8215000e+03 1.0000000e+00]\n",
      " [6.7138672e-04 1.0000000e+03 3.0000000e+02 3.8448999e+03 1.0000000e+00]\n",
      " [4.8217774e-04 1.0000000e+03 3.0000000e+02 3.8683000e+03 1.0000000e+00]\n",
      " [4.5776367e-04 1.1000000e+03 3.0000000e+02 3.8917000e+03 1.0000000e+00]\n",
      " [7.8735349e-04 1.1000000e+03 3.0000000e+02 3.9151001e+03 1.0000000e+00]\n",
      " [7.6904299e-04 1.1000000e+03 3.0000000e+02 3.9385000e+03 1.0000000e+00]\n",
      " [3.0517578e-04 1.1000000e+03 3.0000000e+02 3.9618999e+03 1.0000000e+00]\n",
      " [4.4555665e-04 1.1000000e+03 3.0000000e+02 3.9853000e+03 1.0000000e+00]\n",
      " [4.0893554e-04 1.1000000e+03 3.0000000e+02 4.0087000e+03 1.0000000e+00]\n",
      " [3.8452148e-03 1.1000000e+03 3.0000000e+02 4.0321001e+03 1.0000000e+00]]\n",
      "swapped\n",
      "[[4.1503907e-04 3.8215000e+03 1.0000000e+03 7.7777772e+00 1.0000000e+00]\n",
      " [6.7138672e-04 3.8448999e+03 1.0000000e+03 3.0000000e+02 1.0000000e+00]\n",
      " [4.8217774e-04 3.8683000e+03 1.0000000e+03 3.0000000e+02 1.0000000e+00]\n",
      " [4.5776367e-04 3.8917000e+03 1.1000000e+03 3.0000000e+02 1.0000000e+00]\n",
      " [7.8735349e-04 3.9151001e+03 1.1000000e+03 3.0000000e+02 1.0000000e+00]\n",
      " [7.6904299e-04 3.9385000e+03 1.1000000e+03 3.0000000e+02 1.0000000e+00]\n",
      " [3.0517578e-04 3.9618999e+03 1.1000000e+03 3.0000000e+02 1.0000000e+00]\n",
      " [4.4555665e-04 3.9853000e+03 1.1000000e+03 3.0000000e+02 1.0000000e+00]\n",
      " [4.0893554e-04 4.0087000e+03 1.1000000e+03 3.0000000e+02 1.0000000e+00]\n",
      " [3.8452148e-03 4.0321001e+03 1.1000000e+03 3.0000000e+02 1.0000000e+00]]\n"
     ]
    }
   ],
   "source": [
    "data = f['hcal_cells'][:chunk_size]\n",
    "print(\"original:\")\n",
    "data[0,0,2] = 7.777777 #To guide the eye\n",
    "print(data[0,:10])\n",
    "temp_X = data[:,:,h5_indexX]\n",
    "data[:,:,[1,3]] = data[:,:,[3,1]]#Swap Z and X\n",
    "data[:,:,[2,3]] = data[:,:,[3,2]]#Swap Y and X\n",
    "print(\"swapped\")\n",
    "print(data[0,:10])"
   ]
  },
  {
   "cell_type": "code",
   "execution_count": 11,
   "id": "60a0ae27-099f-44a7-a78d-1fcef141d85f",
   "metadata": {},
   "outputs": [
    {
     "name": "stdout",
     "output_type": "stream",
     "text": [
      "[[ 17.737766   16.070114 ]\n",
      " [  1.2629831  18.429943 ]\n",
      " [  2.1527076  17.271072 ]\n",
      " [ 11.540043   16.895714 ]\n",
      " [123.45066    16.294994 ]\n",
      " [  7.684786   18.410349 ]\n",
      " [ 16.285973   16.580107 ]\n",
      " [  2.877014   15.814756 ]\n",
      " [ 21.49815    18.268    ]\n",
      " [  2.5778146  15.683742 ]]\n"
     ]
    }
   ],
   "source": [
    "truth = f['cluster'][start:start+chunk_size,0:2]\n",
    "print(truth[:10])"
   ]
  },
  {
   "cell_type": "code",
   "execution_count": 16,
   "id": "3f9e314f-1692-4ffc-bb23-4e40ca3c664b",
   "metadata": {},
   "outputs": [
    {
     "name": "stderr",
     "output_type": "stream",
     "text": [
      "100%|██████████| 897/897 [09:15<00:00,  1.61it/s]\n"
     ]
    }
   ],
   "source": [
    "from tqdm import tqdm\n",
    "nevents = np.shape(f['hcal_cells'])[0]\n",
    "with h5py.File(f'epic_hcal_images_{voxel_factor}x{voxel_factor}.h5', 'w') as newfile:\n",
    "    # create empty data set\n",
    "    dset = newfile.create_dataset('calo_images', shape=(nevents, ncellsXY, ncellsXY, ncellsZ),\n",
    "                            maxshape=(None, ncellsXY, ncellsXY, ncellsZ), chunks=(chunk_size, ncellsXY, ncellsXY, ncellsZ),\n",
    "                            dtype=np.float32)\n",
    "    truth_dset = newfile.create_dataset('truth_features', shape=(nevents, n_truth_features),\n",
    "                            maxshape=(None, n_truth_features), chunks=(chunk_size, n_truth_features),\n",
    "                            dtype=np.float32)\n",
    "    \n",
    "    for chunk in tqdm(range(int(nevents/chunk_size))):\n",
    "    #for chunk in range(10):\n",
    "        # add chunk of rows\n",
    "        start = chunk*chunk_size\n",
    "        #print(start)\n",
    "        data = f['hcal_cells'][start:start+chunk_size]\n",
    "        data[:,:,[1,3]] = data[:,:,[3,1]]#Z-Data is now at X-index, and X-Data is at previous Z-index\n",
    "        data[:,:,[2,3]] = data[:,:,[3,2]]\n",
    "        \n",
    "        truth = f['cluster'][start:start+chunk_size,0:2] #genP, genTheta\n",
    "        \n",
    "        images = []\n",
    "        for evt in range(chunk_size):\n",
    "            counts, binedges = np.histogramdd(data[evt,:,:-2], bins=(ncellsXY,ncellsXY,ncellsZ), weights=data[evt,:,h5_indexE])\n",
    "            images.append(counts)\n",
    "        images=np.asarray(images)\n",
    "        \n",
    "        dset[start:start+chunk_size, :, :,:] = images[:, :, :,:]\n",
    "        truth_dset[start:start+chunk_size, :] = truth[:,:]"
   ]
  },
  {
   "cell_type": "code",
   "execution_count": 7,
   "id": "92395c5e-fbcc-4cd9-81e2-7b47be3820b1",
   "metadata": {},
   "outputs": [
    {
     "ename": "FileNotFoundError",
     "evalue": "[Errno 2] Unable to open file (unable to open file: name = 'epic_hcal_images.h5', errno = 2, error message = 'No such file or directory', flags = 0, o_flags = 0)",
     "output_type": "error",
     "traceback": [
      "\u001b[0;31m---------------------------------------------------------------------------\u001b[0m",
      "\u001b[0;31mFileNotFoundError\u001b[0m                         Traceback (most recent call last)",
      "\u001b[0;32m/tmp/ipykernel_142230/3781789569.py\u001b[0m in \u001b[0;36m<module>\u001b[0;34m\u001b[0m\n\u001b[0;32m----> 1\u001b[0;31m \u001b[0;32mwith\u001b[0m \u001b[0mh5py\u001b[0m\u001b[0;34m.\u001b[0m\u001b[0mFile\u001b[0m\u001b[0;34m(\u001b[0m\u001b[0;34m'epic_hcal_images.h5'\u001b[0m\u001b[0;34m,\u001b[0m \u001b[0;34m'r'\u001b[0m\u001b[0;34m)\u001b[0m \u001b[0;32mas\u001b[0m \u001b[0mnewfile\u001b[0m\u001b[0;34m:\u001b[0m\u001b[0;34m\u001b[0m\u001b[0;34m\u001b[0m\u001b[0m\n\u001b[0m\u001b[1;32m      2\u001b[0m     \u001b[0;31m#print(f['calo_images'].attrs['last_index'])\u001b[0m\u001b[0;34m\u001b[0m\u001b[0;34m\u001b[0m\u001b[0m\n\u001b[1;32m      3\u001b[0m     \u001b[0mprint\u001b[0m\u001b[0;34m(\u001b[0m\u001b[0mnewfile\u001b[0m\u001b[0;34m[\u001b[0m\u001b[0;34m'calo_images'\u001b[0m\u001b[0;34m]\u001b[0m\u001b[0;34m.\u001b[0m\u001b[0mshape\u001b[0m\u001b[0;34m)\u001b[0m\u001b[0;34m\u001b[0m\u001b[0;34m\u001b[0m\u001b[0m\n\u001b[1;32m      4\u001b[0m     \u001b[0;31m#print(f['embeds'][0:26])\u001b[0m\u001b[0;34m\u001b[0m\u001b[0;34m\u001b[0m\u001b[0m\n\u001b[1;32m      5\u001b[0m     \u001b[0;31m#print(newfile['calo_images'][0])\u001b[0m\u001b[0;34m\u001b[0m\u001b[0;34m\u001b[0m\u001b[0m\n",
      "\u001b[0;32m/global/common/software/nersc/pm-2022q3/sw/python/3.9-anaconda-2021.11/lib/python3.9/site-packages/h5py/_hl/files.py\u001b[0m in \u001b[0;36m__init__\u001b[0;34m(self, name, mode, driver, libver, userblock_size, swmr, rdcc_nslots, rdcc_nbytes, rdcc_w0, track_order, fs_strategy, fs_persist, fs_threshold, fs_page_size, page_buf_size, min_meta_keep, min_raw_keep, locking, alignment_threshold, alignment_interval, **kwds)\u001b[0m\n\u001b[1;32m    531\u001b[0m                                  \u001b[0mfs_persist\u001b[0m\u001b[0;34m=\u001b[0m\u001b[0mfs_persist\u001b[0m\u001b[0;34m,\u001b[0m \u001b[0mfs_threshold\u001b[0m\u001b[0;34m=\u001b[0m\u001b[0mfs_threshold\u001b[0m\u001b[0;34m,\u001b[0m\u001b[0;34m\u001b[0m\u001b[0;34m\u001b[0m\u001b[0m\n\u001b[1;32m    532\u001b[0m                                  fs_page_size=fs_page_size)\n\u001b[0;32m--> 533\u001b[0;31m                 \u001b[0mfid\u001b[0m \u001b[0;34m=\u001b[0m \u001b[0mmake_fid\u001b[0m\u001b[0;34m(\u001b[0m\u001b[0mname\u001b[0m\u001b[0;34m,\u001b[0m \u001b[0mmode\u001b[0m\u001b[0;34m,\u001b[0m \u001b[0muserblock_size\u001b[0m\u001b[0;34m,\u001b[0m \u001b[0mfapl\u001b[0m\u001b[0;34m,\u001b[0m \u001b[0mfcpl\u001b[0m\u001b[0;34m,\u001b[0m \u001b[0mswmr\u001b[0m\u001b[0;34m=\u001b[0m\u001b[0mswmr\u001b[0m\u001b[0;34m)\u001b[0m\u001b[0;34m\u001b[0m\u001b[0;34m\u001b[0m\u001b[0m\n\u001b[0m\u001b[1;32m    534\u001b[0m \u001b[0;34m\u001b[0m\u001b[0m\n\u001b[1;32m    535\u001b[0m             \u001b[0;32mif\u001b[0m \u001b[0misinstance\u001b[0m\u001b[0;34m(\u001b[0m\u001b[0mlibver\u001b[0m\u001b[0;34m,\u001b[0m \u001b[0mtuple\u001b[0m\u001b[0;34m)\u001b[0m\u001b[0;34m:\u001b[0m\u001b[0;34m\u001b[0m\u001b[0;34m\u001b[0m\u001b[0m\n",
      "\u001b[0;32m/global/common/software/nersc/pm-2022q3/sw/python/3.9-anaconda-2021.11/lib/python3.9/site-packages/h5py/_hl/files.py\u001b[0m in \u001b[0;36mmake_fid\u001b[0;34m(name, mode, userblock_size, fapl, fcpl, swmr)\u001b[0m\n\u001b[1;32m    224\u001b[0m         \u001b[0;32mif\u001b[0m \u001b[0mswmr\u001b[0m \u001b[0;32mand\u001b[0m \u001b[0mswmr_support\u001b[0m\u001b[0;34m:\u001b[0m\u001b[0;34m\u001b[0m\u001b[0;34m\u001b[0m\u001b[0m\n\u001b[1;32m    225\u001b[0m             \u001b[0mflags\u001b[0m \u001b[0;34m|=\u001b[0m \u001b[0mh5f\u001b[0m\u001b[0;34m.\u001b[0m\u001b[0mACC_SWMR_READ\u001b[0m\u001b[0;34m\u001b[0m\u001b[0;34m\u001b[0m\u001b[0m\n\u001b[0;32m--> 226\u001b[0;31m         \u001b[0mfid\u001b[0m \u001b[0;34m=\u001b[0m \u001b[0mh5f\u001b[0m\u001b[0;34m.\u001b[0m\u001b[0mopen\u001b[0m\u001b[0;34m(\u001b[0m\u001b[0mname\u001b[0m\u001b[0;34m,\u001b[0m \u001b[0mflags\u001b[0m\u001b[0;34m,\u001b[0m \u001b[0mfapl\u001b[0m\u001b[0;34m=\u001b[0m\u001b[0mfapl\u001b[0m\u001b[0;34m)\u001b[0m\u001b[0;34m\u001b[0m\u001b[0;34m\u001b[0m\u001b[0m\n\u001b[0m\u001b[1;32m    227\u001b[0m     \u001b[0;32melif\u001b[0m \u001b[0mmode\u001b[0m \u001b[0;34m==\u001b[0m \u001b[0;34m'r+'\u001b[0m\u001b[0;34m:\u001b[0m\u001b[0;34m\u001b[0m\u001b[0;34m\u001b[0m\u001b[0m\n\u001b[1;32m    228\u001b[0m         \u001b[0mfid\u001b[0m \u001b[0;34m=\u001b[0m \u001b[0mh5f\u001b[0m\u001b[0;34m.\u001b[0m\u001b[0mopen\u001b[0m\u001b[0;34m(\u001b[0m\u001b[0mname\u001b[0m\u001b[0;34m,\u001b[0m \u001b[0mh5f\u001b[0m\u001b[0;34m.\u001b[0m\u001b[0mACC_RDWR\u001b[0m\u001b[0;34m,\u001b[0m \u001b[0mfapl\u001b[0m\u001b[0;34m=\u001b[0m\u001b[0mfapl\u001b[0m\u001b[0;34m)\u001b[0m\u001b[0;34m\u001b[0m\u001b[0;34m\u001b[0m\u001b[0m\n",
      "\u001b[0;32mh5py/_objects.pyx\u001b[0m in \u001b[0;36mh5py._objects.with_phil.wrapper\u001b[0;34m()\u001b[0m\n",
      "\u001b[0;32mh5py/_objects.pyx\u001b[0m in \u001b[0;36mh5py._objects.with_phil.wrapper\u001b[0;34m()\u001b[0m\n",
      "\u001b[0;32mh5py/h5f.pyx\u001b[0m in \u001b[0;36mh5py.h5f.open\u001b[0;34m()\u001b[0m\n",
      "\u001b[0;31mFileNotFoundError\u001b[0m: [Errno 2] Unable to open file (unable to open file: name = 'epic_hcal_images.h5', errno = 2, error message = 'No such file or directory', flags = 0, o_flags = 0)"
     ]
    }
   ],
   "source": [
    "with h5py.File('epic_hcal_images.h5', 'r') as newfile:\n",
    "    #print(f['calo_images'].attrs['last_index'])\n",
    "    print(newfile['calo_images'].shape)\n",
    "    #print(f['embeds'][0:26])\n",
    "    #print(newfile['calo_images'][0])\n",
    "    for i in range(13):\n",
    "        for row in newfile['calo_images'][0,:,:,i]:\n",
    "            print(row)"
   ]
  },
  {
   "cell_type": "raw",
   "id": "e9bb9319-83dd-4811-b0f8-6a34a5b4bcb0",
   "metadata": {},
   "source": [
    "nevents = np.shape(f['hcal_cells'])[0]\n",
    "images = []\n",
    "import time\n",
    "for chunk in range(int(nevents/chunk_size)):\n",
    "    start = chunk*chunk_size\n",
    "    end = start+chunk_size\n",
    "    data = f['hcal_cells'][start:end]\n",
    "    print(start)\n",
    "    for evt in range(chunk_size):\n",
    "        counts, binedges = np.histogramdd(data[evt,:,:-2], bins=(54,54,54), weights=data[evt,:,h5_indexE])\n",
    "        images.append(counts)\n",
    "print(time.time())"
   ]
  },
  {
   "cell_type": "code",
   "execution_count": null,
   "id": "36cd12b1-90e5-4f6d-aa2c-dfa8b7b2a40b",
   "metadata": {},
   "outputs": [],
   "source": []
  },
  {
   "cell_type": "code",
   "execution_count": null,
   "id": "d6a10dfd-932a-415d-b10a-b72fc4d7b9cb",
   "metadata": {},
   "outputs": [],
   "source": []
  }
 ],
 "metadata": {
  "kernelspec": {
   "display_name": "NERSC Python",
   "language": "python",
   "name": "python3"
  },
  "language_info": {
   "codemirror_mode": {
    "name": "ipython",
    "version": 3
   },
   "file_extension": ".py",
   "mimetype": "text/x-python",
   "name": "python",
   "nbconvert_exporter": "python",
   "pygments_lexer": "ipython3",
   "version": "3.9.7"
  }
 },
 "nbformat": 4,
 "nbformat_minor": 5
}
