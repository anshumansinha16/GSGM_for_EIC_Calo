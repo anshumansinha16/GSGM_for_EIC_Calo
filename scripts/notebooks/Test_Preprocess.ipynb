{
 "cells": [
  {
   "cell_type": "code",
   "execution_count": 1,
   "id": "03243e9a-55e1-4df0-b6a4-11991414e21f",
   "metadata": {},
   "outputs": [],
   "source": [
    "import json\n",
    "import os\n",
    "import numpy as np\n",
    "import h5py\n",
    "import matplotlib.pyplot as plt\n",
    "\n",
    "def LoadJson(file_name):\n",
    "    import json,yaml\n",
    "    JSONPATH = os.path.join(file_name)\n",
    "    return yaml.safe_load(open(JSONPATH))\n",
    "\n",
    "data_dict = LoadJson('preprocessing_200.json')\n",
    "\n",
    "def revert_logit(x):\n",
    "    alpha = 1e-6\n",
    "    exp = np.exp(x)\n",
    "    x = exp/(1+exp)\n",
    "    return (x-alpha)/(1 - 2*alpha)\n",
    "\n",
    "def revert(x,name='cell'):\n",
    "    x = x*data_dict['std_{}'.format(name)] + data_dict['mean_{}'.format(name)]\n",
    "    x = revert_logit(x)\n",
    "    x = x * (np.array(data_dict['max_{}'.format(name)]) -data_dict['min_{}'.format(name)]) + data_dict['min_{}'.format(name)]\n",
    "    return x"
   ]
  },
  {
   "cell_type": "code",
   "execution_count": 2,
   "id": "84f87bb0-5723-41ee-bf54-b45dda5f1e8c",
   "metadata": {},
   "outputs": [],
   "source": [
    "   def preprocessing(cells,clusters,save_json=False):\n",
    "          num_part = cells.shape[1]\n",
    "\n",
    "          cells=cells.reshape(-1,cells.shape[-1]) #flattens D0 and D1\n",
    "\n",
    "          def _logit(x):\n",
    "              alpha = 1e-6\n",
    "              x = alpha + (1 - 2*alpha)*x\n",
    "              return np.ma.log(x/(1-x)).filled(0)\n",
    "\n",
    "          #Transformations\n",
    "          data_dict = LoadJson('preprocessing_{}.json'.format(200))\n",
    "\n",
    "          #normalize\n",
    "          clusters[:,:] = np.ma.divide(clusters[:,:]-data_dict['min_cluster'],np.array(data_dict['max_cluster'])- data_dict['min_cluster']).filled(0)\n",
    "          cells[:,:-1]= np.ma.divide(cells[:,:-1]-data_dict['min_cell'],np.array(data_dict['max_cell'])- data_dict['min_cell']).filled(0)\n",
    "\n",
    "          # make gaus-like.\n",
    "          clusters = _logit(clusters)\n",
    "          cells[:,:-1] = _logit(cells[:,:-1])\n",
    "    \n",
    "          # standard scalar\n",
    "          clusters = np.ma.divide(clusters-data_dict['mean_cluster'],data_dict['std_cluster']).filled(0)\n",
    "          cells[:,:-1]= np.ma.divide(cells[:,:-1]-data_dict['mean_cell'],data_dict['std_cell']).filled(0)\n",
    "\n",
    "          cells = cells.reshape(clusters.shape[0],num_part,-1)\n",
    "          print(f\"\\nL 380: Shape of Cells in DataLoader = {np.shape(cells)}\")\n",
    "          print(f\"\\nL 381: Cells in DataLoader = \\n{cells[0,15:20,:]}\")\n",
    "         #print(f\"\\nL 382: Clusters in DataLoader = {clusters}\\n\")\n",
    "          return cells.astype(np.float32),clusters.astype(np.float32)"
   ]
  },
  {
   "cell_type": "code",
   "execution_count": 3,
   "id": "f28b22f4-80a7-444c-9ecb-49e5bb74ec75",
   "metadata": {},
   "outputs": [
    {
     "name": "stderr",
     "output_type": "stream",
     "text": [
      "2023-06-02 10:18:29.647277: I tensorflow/core/platform/cpu_feature_guard.cc:182] This TensorFlow binary is optimized to use available CPU instructions in performance-critical operations.\n",
      "To enable the following instructions: AVX2 FMA, in other operations, rebuild TensorFlow with the appropriate compiler flags.\n",
      "2023-06-02 10:18:31.646207: W tensorflow/compiler/tf2tensorrt/utils/py_utils.cc:38] TF-TRT Warning: Could not find TensorRT\n"
     ]
    }
   ],
   "source": [
    "from utils import *"
   ]
  },
  {
   "cell_type": "code",
   "execution_count": 4,
   "id": "127186eb-9778-4dc6-a24e-a696c8eb6b2b",
   "metadata": {},
   "outputs": [
    {
     "name": "stdout",
     "output_type": "stream",
     "text": [
      "<KeysViewHDF5 ['cluster', 'hcal_cells']>\n"
     ]
    },
    {
     "name": "stderr",
     "output_type": "stream",
     "text": [
      "/tmp/ipykernel_127590/2638624606.py:12: RuntimeWarning: divide by zero encountered in log10\n",
      "  cells[:,:,0] = np.log10(cells[:,:,0])\n"
     ]
    }
   ],
   "source": [
    "geant4_name = \"improved_200cells_FPCD.hdf5\"\n",
    "geant4_name = \"smeared_20keV_200cells_FPCD.hdf5\"\n",
    "geant4_name = \"newMIP_smeared_20keV_200cells_FPCD.hdf5\"\n",
    "\n",
    "g4 = h5py.File(geant4_name, 'r')\n",
    "\n",
    "print(g4.keys())\n",
    "\n",
    "nevts = 1_000\n",
    "clusters = g4['cluster'][:nevts,2:]\n",
    "cells = g4['hcal_cells'][:nevts]\n",
    "cells[:,:,0] = np.log10(cells[:,:,0])\n",
    "MASK = cells[:,:,-1]"
   ]
  },
  {
   "cell_type": "code",
   "execution_count": 5,
   "id": "3e6457b9-342e-43b1-933d-27858cfbff1a",
   "metadata": {},
   "outputs": [
    {
     "name": "stdout",
     "output_type": "stream",
     "text": [
      "\n",
      "L 380: Shape of Cells in DataLoader = (1000, 200, 5)\n",
      "\n",
      "L 381: Cells in DataLoader = \n",
      "[[ 0.49270093  1.4865904   0.30417705 -0.04054631  1.        ]\n",
      " [ 0.5642355   1.4233966   0.38169798  0.00515511  1.        ]\n",
      " [ 0.14198914  1.4541855   0.32555857  0.09308619  1.        ]\n",
      " [ 0.3213517   1.5799106   0.32040486  0.15006053  1.        ]\n",
      " [ 0.22224635  1.6523601   0.37665504  0.22861853  1.        ]]\n"
     ]
    }
   ],
   "source": [
    "p_cells, p_clusters = preprocessing(cells, clusters)"
   ]
  },
  {
   "cell_type": "code",
   "execution_count": 6,
   "id": "62c0306d-3ffa-4887-92c7-934cdeca6c0d",
   "metadata": {},
   "outputs": [
    {
     "name": "stdout",
     "output_type": "stream",
     "text": [
      "(1000, 200)\n"
     ]
    }
   ],
   "source": [
    "g4_cellsX = g4['hcal_cells'][:nevts,:,1]\n",
    "g4_cellsY = g4['hcal_cells'][:nevts,:,2]\n",
    "g4_cellsZ = g4['hcal_cells'][:nevts,:,3]\n",
    "g4_cellsE = g4['hcal_cells'][:nevts,:,0]\n",
    "\n",
    "MASK = g4['hcal_cells'][:nevts,:,-1] == 1\n",
    "print(np.shape(g4_cellsX))\n",
    "masked_X = g4_cellsX[MASK]\n",
    "masked_Y = g4_cellsY[MASK]\n",
    "masked_Z = g4_cellsZ[MASK]\n",
    "masked_E = np.log10(g4_cellsE[MASK])"
   ]
  },
  {
   "cell_type": "code",
   "execution_count": 7,
   "id": "f1be8063-135f-4236-bd34-fd9ce1c6b4d9",
   "metadata": {},
   "outputs": [
    {
     "data": {
      "image/png": "[encoded data removed]",
      "text/plain": [
       "<Figure size 432x288 with 1 Axes>"
      ]
     },
     "metadata": {
      "needs_background": "light"
     },
     "output_type": "display_data"
    }
   ],
   "source": [
    "plt.hist(masked_X,bins=54,label = \"ROOT\",color=\"blue\",alpha=0.5)\n",
    "_ = plt.legend()"
   ]
  },
  {
   "cell_type": "code",
   "execution_count": 8,
   "id": "cf728c8f-672b-40d6-b120-c54bec454052",
   "metadata": {},
   "outputs": [
    {
     "data": {
      "image/png": "[encoded data removed]",
      "text/plain": [
       "<Figure size 432x288 with 1 Axes>"
      ]
     },
     "metadata": {
      "needs_background": "light"
     },
     "output_type": "display_data"
    }
   ],
   "source": [
    "plt.hist(masked_Z,bins=200,label = \"ROOT Z\",color=\"blue\",alpha=0.5)\n",
    "_ = plt.legend()"
   ]
  },
  {
   "cell_type": "code",
   "execution_count": 9,
   "id": "5b51270f-5c87-4087-a691-fa25ba256434",
   "metadata": {},
   "outputs": [
    {
     "data": {
      "image/png": "[encoded data removed]",
      "text/plain": [
       "<Figure size 432x288 with 1 Axes>"
      ]
     },
     "metadata": {
      "needs_background": "light"
     },
     "output_type": "display_data"
    }
   ],
   "source": [
    "plt.hist(np.ravel(p_cells[:,:,3][MASK]),bins = 200,label = \"Pre-Processed Z\",color=\"blue\",alpha=0.5)\n",
    "_ = plt.legend()"
   ]
  },
  {
   "cell_type": "code",
   "execution_count": 10,
   "id": "172c4028-e39f-4aaa-b4f1-02e8fac5a19d",
   "metadata": {},
   "outputs": [
    {
     "data": {
      "image/png": "[encoded data removed]",
      "text/plain": [
       "<Figure size 432x288 with 1 Axes>"
      ]
     },
     "metadata": {
      "needs_background": "light"
     },
     "output_type": "display_data"
    }
   ],
   "source": [
    "plt.hist(masked_X,bins=200,label = \"ROOT X\",color=\"blue\",alpha=0.5)\n",
    "_ = plt.legend()"
   ]
  },
  {
   "cell_type": "code",
   "execution_count": 11,
   "id": "67eb4ecc-c969-47b7-a777-8f9c4332eedf",
   "metadata": {},
   "outputs": [
    {
     "data": {
      "image/png": "[encoded data removed]",
      "text/plain": [
       "<Figure size 432x288 with 1 Axes>"
      ]
     },
     "metadata": {
      "needs_background": "light"
     },
     "output_type": "display_data"
    }
   ],
   "source": [
    "plt.hist(np.ravel(p_cells[:,:,1][MASK]),bins = 200,label = \"Pre-Processed X\",color=\"blue\",alpha=0.5)\n",
    "_ = plt.legend()"
   ]
  },
  {
   "cell_type": "code",
   "execution_count": 12,
   "id": "238c3bdf-89de-452e-ac04-d63eea90896c",
   "metadata": {},
   "outputs": [
    {
     "data": {
      "image/png": "[encoded data removed]",
      "text/plain": [
       "<Figure size 432x288 with 1 Axes>"
      ]
     },
     "metadata": {
      "needs_background": "light"
     },
     "output_type": "display_data"
    }
   ],
   "source": [
    "plt.hist(masked_E,bins=200,label = \"ROOT E\",color=\"blue\",alpha=0.5)\n",
    "_ = plt.legend()"
   ]
  },
  {
   "cell_type": "code",
   "execution_count": 13,
   "id": "d796cc37-ed1f-454e-83d7-1642d1c5160e",
   "metadata": {},
   "outputs": [
    {
     "data": {
      "image/png": "[encoded data removed]",
      "text/plain": [
       "<Figure size 432x288 with 1 Axes>"
      ]
     },
     "metadata": {
      "needs_background": "light"
     },
     "output_type": "display_data"
    }
   ],
   "source": [
    "plt.hist(np.ravel(p_cells[:,:,0][MASK]),bins=200,label = \"Pre-Processed E\",color=\"blue\",alpha=0.5)\n",
    "_ = plt.legend()"
   ]
  },
  {
   "cell_type": "code",
   "execution_count": 14,
   "id": "76f857f7-0cd9-45c0-bf9c-e08a5e5a66c7",
   "metadata": {},
   "outputs": [
    {
     "name": "stdout",
     "output_type": "stream",
     "text": [
      "[0.09998343 0.32138985 0.17665263 ... 1.2674674  0.77791166 1.6754057 ]\n"
     ]
    }
   ],
   "source": [
    "print(p_cells[:,:,0][MASK])"
   ]
  },
  {
   "cell_type": "code",
   "execution_count": 15,
   "id": "244d4684-78b2-4a59-a95f-72df0f0f6624",
   "metadata": {},
   "outputs": [
    {
     "data": {
      "image/png": "[encoded data removed]",
      "text/plain": [
       "<Figure size 432x288 with 1 Axes>"
      ]
     },
     "metadata": {
      "needs_background": "light"
     },
     "output_type": "display_data"
    }
   ],
   "source": [
    "plt.hist(masked_E,bins=200,label = \"ROOT log10 E\",color=\"blue\",alpha=0.5)\n",
    "_ = plt.legend()"
   ]
  },
  {
   "cell_type": "code",
   "execution_count": 16,
   "id": "855164b5-da1a-49bc-839f-7ae38cef71d8",
   "metadata": {},
   "outputs": [
    {
     "name": "stdout",
     "output_type": "stream",
     "text": [
      "[-3.3875532 -3.1681507 -3.3133585 ... -2.1640086 -2.6819625 -1.7819204]\n"
     ]
    }
   ],
   "source": [
    "print(masked_E)"
   ]
  },
  {
   "cell_type": "code",
   "execution_count": null,
   "id": "46e78ee2-04db-4c5b-9c1a-88db0cc01887",
   "metadata": {},
   "outputs": [],
   "source": []
  }
 ],
 "metadata": {
  "kernelspec": {
   "display_name": "NERSC Python",
   "language": "python",
   "name": "python3"
  },
  "language_info": {
   "codemirror_mode": {
    "name": "ipython",
    "version": 3
   },
   "file_extension": ".py",
   "mimetype": "text/x-python",
   "name": "python",
   "nbconvert_exporter": "python",
   "pygments_lexer": "ipython3",
   "version": "3.9.7"
  }
 },
 "nbformat": 4,
 "nbformat_minor": 5
}
