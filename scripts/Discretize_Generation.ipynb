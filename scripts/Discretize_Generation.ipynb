{
 "cells": [
  {
   "cell_type": "markdown",
   "id": "c24a4677-a0d6-4caa-9639-e81e16e39163",
   "metadata": {
    "tags": []
   },
   "source": [
    "### Notebook to make Fast Point-Cloud Diffusion distributions Discrete, like G4"
   ]
  },
  {
   "cell_type": "code",
   "execution_count": 1,
   "id": "8159f189-1867-471f-a9d3-a5ad1056fb75",
   "metadata": {},
   "outputs": [],
   "source": [
    "import h5py\n",
    "import numpy as np\n",
    "from tqdm import tqdm"
   ]
  },
  {
   "cell_type": "code",
   "execution_count": 28,
   "id": "5ed62238-8673-4b1c-92df-ff9b23d175ac",
   "metadata": {},
   "outputs": [
    {
     "name": "stdout",
     "output_type": "stream",
     "text": [
      "<KeysViewHDF5 ['cluster', 'hcal_cells']>\n"
     ]
    }
   ],
   "source": [
    "geant4_name = \"improved_200cells_FPCD.hdf5\"\n",
    "g4 = h5py.File(geant4_name, 'r')\n",
    "print(g4.keys())\n",
    "chunk_size=2000\n",
    "nevts=100_000"
   ]
  },
  {
   "cell_type": "code",
   "execution_count": 31,
   "id": "fbf43024-e277-474f-8abf-3067a0731d96",
   "metadata": {},
   "outputs": [],
   "source": [
    "def get_bin_edges(g4_cell_data):\n",
    "    centers = np.unique(g4_cell_data)\n",
    "    if (centers[0] == 0):\n",
    "        centers = centers[1:]\n",
    "    width = np.round(centers[1] - centers[0],2)\n",
    "\n",
    "    edges = centers - width/2\n",
    "    max_edge = centers[-1] + width/2\n",
    "    edges = (np.append(edges,max_edge))\n",
    "    \n",
    "    return centers, edges"
   ]
  },
  {
   "cell_type": "code",
   "execution_count": 32,
   "id": "7799c7cb-2a27-4862-83eb-903e685b47ef",
   "metadata": {},
   "outputs": [
    {
     "name": "stdout",
     "output_type": "stream",
     "text": [
      "dict_keys(['centersX', 'edgesX', 'centersY', 'edgesY', 'centersZ', 'edgesZ'])\n"
     ]
    }
   ],
   "source": [
    "bin_dict = {}\n",
    "var_str = [\"E\",\"X\",\"Y\",\"Z\"]\n",
    "\n",
    "for var in range(1,4):\n",
    "    g4_data = g4['hcal_cells'][:nevts,:,var]\n",
    "    centers, edges = get_bin_edges(g4_data)\n",
    "    bin_dict[f\"centers{var_str[var]}\"],bin_dict[f\"edges{var_str[var]}\"] = centers, edges \n",
    "\n",
    "print(bin_dict.keys())"
   ]
  },
  {
   "cell_type": "code",
   "execution_count": 33,
   "id": "f347c0c1-cd36-44b9-8001-1b0950fc4814",
   "metadata": {},
   "outputs": [
    {
     "name": "stdout",
     "output_type": "stream",
     "text": [
      "[3821.5 3844.9 3868.3 3891.7 3915.1 3938.5 3961.9 3985.3 4008.7 4032.1\n",
      " 4055.5 4078.9 4102.3 4125.7 4149.1 4172.5 4195.9 4219.3 4242.7 4266.1\n",
      " 4289.5 4312.9 4336.3 4359.7 4383.1 4406.5 4429.9 4453.3 4476.7 4500.1\n",
      " 4523.5 4546.9 4570.3 4593.7 4617.1 4640.5 4663.9 4687.3 4710.7 4734.1\n",
      " 4757.5 4780.9 4804.3 4827.7 4851.1 4874.5 4897.9 4921.3 4944.7 4968.1\n",
      " 4991.5 5014.9 5038.3 5061.7 5085.1]\n"
     ]
    }
   ],
   "source": [
    "print((bin_dict[\"centersZ\"]))"
   ]
  },
  {
   "cell_type": "code",
   "execution_count": 35,
   "id": "272ab548-668d-4ef9-9679-df89dd915b9c",
   "metadata": {},
   "outputs": [
    {
     "name": "stdout",
     "output_type": "stream",
     "text": [
      "<KeysViewHDF5 ['cell_features', 'cluster_features']>\n",
      "X :  [16 14 16 16 16 16 16 16 16 16]\n",
      "Y :  [25 26 26 27 28 30 28 27 28 28]\n",
      "Z :  [10  4 10  4 16 26  3  4  8  9]\n"
     ]
    }
   ],
   "source": [
    "diffusion_name = \"GSGM_nospikes_300Epochs.h5\"\n",
    "dfsn = h5py.File(diffusion_name,'r')\n",
    "print(dfsn.keys())\n",
    "\n",
    "digit_dict = {}\n",
    "var_str = [\"E\",\"X\",\"Y\",\"Z\"]\n",
    "for var in range(1,4):\n",
    "    diffusion_data = dfsn['cell_features'][:,:,var]\n",
    "    digits = np.digitize(diffusion_data,bin_dict[f\"edges{var_str[var]}\"])\n",
    "    print(var_str[var],\": \",digits[100,:10])\n",
    "    digit_dict[f\"digits{var_str[var]}\"] = digits - 1  # -1 for indices"
   ]
  },
  {
   "cell_type": "code",
   "execution_count": 36,
   "id": "b142e646-f2fe-4040-946d-87a2d65edede",
   "metadata": {},
   "outputs": [
    {
     "data": {
      "text/plain": [
       "(2,)"
      ]
     },
     "execution_count": 36,
     "metadata": {},
     "output_type": "execute_result"
    }
   ],
   "source": [
    "np.shape(dfsn['cluster_features'][1])"
   ]
  },
  {
   "cell_type": "code",
   "execution_count": 43,
   "id": "ffacee12-9865-482f-ab69-0837c7ef692c",
   "metadata": {
    "tags": []
   },
   "outputs": [
    {
     "name": "stderr",
     "output_type": "stream",
     "text": [
      "100%|██████████| 10000/10000 [00:01<00:00, 6690.70it/s]\n"
     ]
    },
    {
     "name": "stdout",
     "output_type": "stream",
     "text": [
      "[-1100. -1200. -1200. -1200. -1100. -1100. -1300. -1100. -1500. -1100.]\n",
      "Done with X\n"
     ]
    },
    {
     "name": "stderr",
     "output_type": "stream",
     "text": [
      "100%|██████████| 10000/10000 [00:01<00:00, 7947.17it/s]\n"
     ]
    },
    {
     "name": "stdout",
     "output_type": "stream",
     "text": [
      "[-100. -100. -200. -100. -200.  100.  200.    0. -100. -200.]\n",
      "Done with Y\n"
     ]
    },
    {
     "name": "stderr",
     "output_type": "stream",
     "text": [
      "100%|██████████| 10000/10000 [00:01<00:00, 7459.80it/s]\n"
     ]
    },
    {
     "name": "stdout",
     "output_type": "stream",
     "text": [
      "[4032.1 3915.1 4149.1 4359.7 3915.1 4172.5 4500.1 3891.7 4102.3 4078.9]\n",
      "Done with Z\n"
     ]
    }
   ],
   "source": [
    "test = 0\n",
    "nevents = np.shape(dfsn['cell_features'])[0]\n",
    "ncells = np.shape(dfsn['cell_features'])[1]\n",
    "nvar = np.shape(dfsn['cell_features'])[2]\n",
    "ncluster_var = np.shape(dfsn['cluster_features'])[1]\n",
    "chunk_size = 100\n",
    "with h5py.File(f'GSGM_Discrete.h5', 'w') as newfile:\n",
    "    # create empty data set\n",
    "    dset = newfile.create_dataset('cell_features', \n",
    "                                shape=(np.shape(dfsn['cell_features'])),\n",
    "                                maxshape=(np.shape(dfsn['cell_features'])), \n",
    "                                chunks=(chunk_size, ncells, nvar),\n",
    "                                dtype=np.float32)\n",
    "\n",
    "    cluster_dset = newfile.create_dataset('cluster_features', data=dfsn['cluster_features'])\n",
    "    \n",
    "    \n",
    "    dset[:,:,0] = dfsn['cell_features'][:,:,0]\n",
    "    for var in range(1,4):\n",
    "        \n",
    "        g4_centers = bin_dict[f\"centers{var_str[var]}\"]  # what the data will be set to\n",
    "        n_bins = len(bin_dict[f\"centers{var_str[var]}\"]) \n",
    "        var_mask =  digit_dict[f\"digits{var_str[var]}\"]  #which data will be edited\n",
    "        #print(\"var mask shape = \",np.shape(var_mask))\n",
    "        diffusion_data = dfsn['cell_features'][:,:,var]\n",
    "        #print(\"var_mask = \",var_mask[10])\n",
    "        for evt in tqdm(range(nevents)):\n",
    "            for ibin in range(n_bins):\n",
    "                bin_mask = var_mask[evt]==ibin\n",
    "                #print(\"BIN NUMBER\",ibin)\n",
    "                #print(\"Var Mask sample\",var_mask[evt,25:35])\n",
    "                #print(\"Data = \",diffusion_data[evt,25:35][var_mask[evt,25:35]==ibin])\n",
    "                #print(\"BIN CENTER = \",g4_centers[ibin])\n",
    "                diffusion_data[evt][bin_mask] = g4_centers[ibin]\n",
    "                #print(\"Data Discr= \",diffusion_data[evt,25:35][var_mask[evt,25:35]==ibin])\n",
    "            \n",
    "                \n",
    "        dset[:,:,var] = np.round(diffusion_data,2)\n",
    "        print(np.round(diffusion_data[100,25:35],2))\n",
    "        print(f\"Done with {var_str[var]}\")"
   ]
  },
  {
   "cell_type": "code",
   "execution_count": 45,
   "id": "183e111e-8e68-4683-8e08-6ff92dc9afd9",
   "metadata": {},
   "outputs": [
    {
     "name": "stdout",
     "output_type": "stream",
     "text": [
      "[3844.9 4266.1 4195.9 4406.5 4078.9 4125.7 4078.9 3961.9 3844.9 4149.1\n",
      " 4055.5 4219.3 4266.1 4125.7 3961.9 4266.1 3868.3 3868.3 3985.3 4266.1\n",
      " 4172.5 3961.9 3938.5 4149.1 3891.7 4008.7 3915.1 3985.3 3915.1 3938.5\n",
      " 3961.9 3821.5 4102.3 4008.7 3891.7 3938.5 4266.1 3891.7 4055.5 4195.9\n",
      " 3985.3 4266.1 4102.3 4149.1 4172.5 4102.3 3938.5 3985.3 3985.3 4102.3\n",
      " 4078.9 3891.7 3961.9 4008.7 3961.9 4289.5 4125.7 4219.3 4195.9 3961.9\n",
      " 4008.7 4078.9 4242.7 4219.3 3821.5 3961.9 4055.5 3938.5 4078.9 3938.5\n",
      " 4289.5 4195.9 4008.7 3961.9 4008.7 4055.5 4125.7 3961.9 3985.3 3915.1\n",
      " 4102.3 3891.7 4195.9 4242.7 3891.7 3985.3 4219.3 3844.9 3821.5 3938.5\n",
      " 4149.1 3938.5 3985.3 4055.5 3821.5 3961.9 3961.9 3938.5 4172.5 4055.5\n",
      " 4195.9 4172.5 3985.3 4032.1 3985.3 3938.5 3844.9 3985.3 3844.9 3821.5\n",
      " 4429.9 3985.3 3985.3 4172.5 3961.9 4149.1 4008.7 3938.5 4149.1 4102.3\n",
      " 4336.3 3961.9 4055.5 3938.5 4078.9 4078.9 4055.5 4102.3 3985.3 4032.1\n",
      " 4195.9 3961.9 4032.1    0.     0.     0.     0.     0.     0.     0.\n",
      "    0.     0.     0.     0.     0.     0.     0.     0.     0.     0.\n",
      "    0.     0.     0.     0.     0.     0.     0.     0.     0.     0.\n",
      "    0.     0.     0.     0.     0.     0.     0.     0.     0.     0.\n",
      "    0.     0.     0.     0.     0.     0.     0.     0.     0.     0.\n",
      "    0.     0.     0.     0.     0.     0.     0.     0.     0.     0.\n",
      "    0.     0.     0.     0.     0.     0.     0.     0.     0.     0. ]\n"
     ]
    }
   ],
   "source": [
    "with h5py.File(f'GSGM_Discrete.h5', 'r') as disc:\n",
    "    print(disc[\"cell_features\"][10,:,3])"
   ]
  },
  {
   "cell_type": "code",
   "execution_count": null,
   "id": "092a42e2-a72d-4d1e-8a38-7e5356594151",
   "metadata": {},
   "outputs": [],
   "source": [
    "print(g4[\"hcal_cells\"][100,:10,3])"
   ]
  },
  {
   "cell_type": "code",
   "execution_count": null,
   "id": "9570245e-e52d-4698-8550-21a69c6ad70b",
   "metadata": {},
   "outputs": [],
   "source": []
  }
 ],
 "metadata": {
  "kernelspec": {
   "display_name": "NERSC Python",
   "language": "python",
   "name": "python3"
  },
  "language_info": {
   "codemirror_mode": {
    "name": "ipython",
    "version": 3
   },
   "file_extension": ".py",
   "mimetype": "text/x-python",
   "name": "python",
   "nbconvert_exporter": "python",
   "pygments_lexer": "ipython3",
   "version": "3.9.7"
  }
 },
 "nbformat": 4,
 "nbformat_minor": 5
}
