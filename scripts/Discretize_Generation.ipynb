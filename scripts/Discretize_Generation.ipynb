{
 "cells": [
  {
   "cell_type": "markdown",
   "id": "c24a4677-a0d6-4caa-9639-e81e16e39163",
   "metadata": {
    "tags": []
   },
   "source": [
    "### Notebook to make Fast Point-Cloud Diffusion distributions Discrete, like G4"
   ]
  },
  {
   "cell_type": "code",
   "execution_count": 15,
   "id": "8159f189-1867-471f-a9d3-a5ad1056fb75",
   "metadata": {},
   "outputs": [],
   "source": [
    "import h5py\n",
    "import numpy as np\n",
    "from tqdm import tqdm"
   ]
  },
  {
   "cell_type": "code",
   "execution_count": 16,
   "id": "5ed62238-8673-4b1c-92df-ff9b23d175ac",
   "metadata": {},
   "outputs": [
    {
     "name": "stdout",
     "output_type": "stream",
     "text": [
      "<KeysViewHDF5 ['cluster', 'hcal_cells']>\n"
     ]
    }
   ],
   "source": [
    "geant4_name = \"improved_200cells_FPCD.hdf5\"\n",
    "g4 = h5py.File(geant4_name, 'r')\n",
    "print(g4.keys())\n",
    "chunk_size=2000\n",
    "nevts=100_000"
   ]
  },
  {
   "cell_type": "code",
   "execution_count": 17,
   "id": "fbf43024-e277-474f-8abf-3067a0731d96",
   "metadata": {},
   "outputs": [],
   "source": [
    "def get_bin_edges(g4_cell_data):\n",
    "    centers = np.unique(g4_cell_data)\n",
    "    if (centers[0] == 0):\n",
    "        centers = centers[1:]\n",
    "    width = np.round(centers[1] - centers[0],2)\n",
    "\n",
    "    edges = centers - width/2\n",
    "    max_edge = centers[-1] + width/2\n",
    "    edges = (np.append(edges,max_edge))\n",
    "    \n",
    "    return centers, edges"
   ]
  },
  {
   "cell_type": "code",
   "execution_count": 18,
   "id": "7799c7cb-2a27-4862-83eb-903e685b47ef",
   "metadata": {},
   "outputs": [
    {
     "name": "stdout",
     "output_type": "stream",
     "text": [
      "dict_keys(['centersX', 'edgesX', 'centersY', 'edgesY', 'centersZ', 'edgesZ'])\n"
     ]
    }
   ],
   "source": [
    "bin_dict = {}\n",
    "var_str = [\"E\",\"X\",\"Y\",\"Z\"]\n",
    "\n",
    "for var in range(1,4):\n",
    "    g4_data = g4['hcal_cells'][:nevts,:,var]\n",
    "    centers, edges = get_bin_edges(g4_data)\n",
    "    bin_dict[f\"centers{var_str[var]}\"],bin_dict[f\"edges{var_str[var]}\"] = centers, edges \n",
    "\n",
    "print(bin_dict.keys())"
   ]
  },
  {
   "cell_type": "code",
   "execution_count": 19,
   "id": "f347c0c1-cd36-44b9-8001-1b0950fc4814",
   "metadata": {},
   "outputs": [
    {
     "name": "stdout",
     "output_type": "stream",
     "text": [
      "[-2700. -2600. -2500. -2400. -2300. -2200. -2100. -2000. -1900. -1800.\n",
      " -1700. -1600. -1500. -1400. -1300. -1200. -1100. -1000.  -900.  -800.\n",
      "  -700.  -600.  -500.  -400.  -300.  -200.  -100.     0.   100.   200.\n",
      "   300.   400.   500.   600.   700.   800.   900.  1000.  1100.  1200.\n",
      "  1300.  1400.  1500.  1600.  1700.  1800.  1900.  2000.  2100.  2200.\n",
      "  2300.  2400.  2500.  2600.  2700.]\n"
     ]
    }
   ],
   "source": [
    "print((bin_dict[\"centersX\"]))"
   ]
  },
  {
   "cell_type": "code",
   "execution_count": 53,
   "id": "272ab548-668d-4ef9-9679-df89dd915b9c",
   "metadata": {},
   "outputs": [
    {
     "name": "stdout",
     "output_type": "stream",
     "text": [
      "<KeysViewHDF5 ['cell_features', 'cluster_features']>\n",
      "X :  [16 19 15 17 16 14 18 16 16 14]\n",
      "Y :  [29 27 29 28 29 27 27 29 29 28]\n",
      "Z :  [ 6 22 16  8  9 20 28 12 10 23]\n"
     ]
    }
   ],
   "source": [
    "diffusion_name = \"GSGM.h5\"\n",
    "dfsn = h5py.File(diffusion_name,'r')\n",
    "print(dfsn.keys())\n",
    "\n",
    "digit_dict = {}\n",
    "var_str = [\"E\",\"X\",\"Y\",\"Z\"]\n",
    "for var in range(1,4):\n",
    "    diffusion_data = dfsn['cell_features'][:,:,var]\n",
    "    digits = np.digitize(diffusion_data,bin_dict[f\"edges{var_str[var]}\"])\n",
    "    print(var_str[var],\": \",digits[100,:10])\n",
    "    digit_dict[f\"digits{var_str[var]}\"] = digits - 1  # -1 for indices"
   ]
  },
  {
   "cell_type": "code",
   "execution_count": 21,
   "id": "b142e646-f2fe-4040-946d-87a2d65edede",
   "metadata": {},
   "outputs": [
    {
     "data": {
      "text/plain": [
       "(2,)"
      ]
     },
     "execution_count": 21,
     "metadata": {},
     "output_type": "execute_result"
    }
   ],
   "source": [
    "np.shape(dfsn['cluster_features'][1])"
   ]
  },
  {
   "cell_type": "code",
   "execution_count": 80,
   "id": "ffacee12-9865-482f-ab69-0837c7ef692c",
   "metadata": {},
   "outputs": [
    {
     "name": "stderr",
     "output_type": "stream",
     "text": [
      "100%|██████████| 100000/100000 [00:11<00:00, 8355.65it/s]\n"
     ]
    },
    {
     "name": "stdout",
     "output_type": "stream",
     "text": [
      "Done with X\n"
     ]
    },
    {
     "name": "stderr",
     "output_type": "stream",
     "text": [
      "100%|██████████| 100000/100000 [00:11<00:00, 8371.58it/s]\n"
     ]
    },
    {
     "name": "stdout",
     "output_type": "stream",
     "text": [
      "Done with Y\n"
     ]
    },
    {
     "name": "stderr",
     "output_type": "stream",
     "text": [
      "100%|██████████| 100000/100000 [00:12<00:00, 7718.22it/s]\n"
     ]
    },
    {
     "name": "stdout",
     "output_type": "stream",
     "text": [
      "Done with Z\n"
     ]
    }
   ],
   "source": [
    "test = 0\n",
    "nevents = np.shape(dfsn['cell_features'])[0]\n",
    "ncells = np.shape(dfsn['cell_features'])[1]\n",
    "nvar = np.shape(dfsn['cell_features'])[2]\n",
    "ncluster_var = np.shape(dfsn['cluster_features'])[1]\n",
    "chunk_size = 100\n",
    "with h5py.File(f'GSGM_Discrete.h5', 'w') as newfile:\n",
    "    # create empty data set\n",
    "    dset = newfile.create_dataset('cell_features', \n",
    "                                shape=(np.shape(dfsn['cell_features'])),\n",
    "                                maxshape=(np.shape(dfsn['cell_features'])), \n",
    "                                chunks=(chunk_size, ncells, nvar),\n",
    "                                dtype=np.float32)\n",
    "    cluster_dset = newfile.create_dataset('cluster_features', \n",
    "                            shape=(np.shape(dfsn['cluster_features'])),\n",
    "                            maxshape=(np.shape(dfsn['cluster_features'])), \n",
    "                            chunks=(chunk_size, 2),\n",
    "                            dtype=np.float32,\n",
    "                            data=dfsn['cluster_features'])\n",
    "    \n",
    "    for var in range(1,4):\n",
    "        \n",
    "        g4_centers = bin_dict[f\"centers{var_str[var]}\"]  # what the data will be set to\n",
    "        n_bins = len(bin_dict[f\"centers{var_str[var]}\"]) \n",
    "        var_mask =  digit_dict[f\"digits{var_str[var]}\"]  #which data will be edited\n",
    "        #print(\"var mask shape = \",np.shape(var_mask))\n",
    "        diffusion_data = dfsn['cell_features'][:,:,var]\n",
    "        #print(\"var_mask = \",var_mask[10])\n",
    "        for evt in tqdm(range(nevents)):\n",
    "            for ibin in range(n_bins):\n",
    "                bin_mask = var_mask[evt]==ibin\n",
    "                #print(\"BIN NUMBER\",ibin)\n",
    "                #print(\"Var Mask sample\",var_mask[evt,25:35])\n",
    "                #print(\"Data = \",diffusion_data[evt,25:35][var_mask[evt,25:35]==ibin])\n",
    "                diffusion_data[evt][bin_mask] = g4_centers[ibin]\n",
    "                #print(\"Data Discr= \",diffusion_data[evt,25:35][var_mask[evt,25:35]==ibin])\n",
    "            \n",
    "                \n",
    "        dset[:,:,var] = diffusion_data\n",
    "        print(f\"Done with {var_str[var]}\")"
   ]
  },
  {
   "cell_type": "code",
   "execution_count": 83,
   "id": "183e111e-8e68-4683-8e08-6ff92dc9afd9",
   "metadata": {},
   "outputs": [
    {
     "name": "stdout",
     "output_type": "stream",
     "text": [
      "[3891.7 3821.5 3868.3 3868.3 3821.5 3844.9 3938.5 3915.1 3821.5 3844.9\n",
      " 3868.3 3844.9 3844.9 4008.7 4312.9 4219.3 3961.9 3891.7 4219.3 4032.1\n",
      " 3868.3 3961.9 4149.1 4149.1 4149.1 4149.1 4149.1 4149.1 4149.1 4149.1\n",
      " 4149.1 4149.1 4149.1 4149.1 4149.1 4149.1 4149.1 4149.1 4149.1 4149.1\n",
      " 4149.1 4149.1 4149.1 4149.1 4149.1 4149.1 4149.1 4149.1 4149.1 4149.1\n",
      " 4149.1 4149.1 4149.1 4149.1 4149.1 4149.1 4149.1 4149.1 4149.1 4149.1\n",
      " 4149.1 4149.1 4149.1 4149.1 4149.1 4149.1 4149.1 4149.1 4149.1 4149.1\n",
      " 4149.1 4149.1 4149.1 4149.1 4149.1 4149.1 4149.1 4149.1 4149.1 4149.1\n",
      " 4149.1 4149.1 4149.1 4149.1 4149.1 4149.1 4149.1 4149.1 4149.1 4149.1\n",
      " 4149.1 4149.1 4149.1 4149.1 4149.1 4149.1 4149.1 4149.1 4149.1 4149.1\n",
      " 4149.1 4149.1 4149.1 4149.1 4149.1 4149.1 4149.1 4149.1 4149.1 4149.1\n",
      " 4149.1 4149.1 4149.1 4149.1 4149.1 4149.1 4149.1 4149.1 4149.1 4149.1\n",
      " 4149.1 4149.1 4149.1 4149.1 4149.1 4149.1 4149.1 4149.1 4149.1 4149.1\n",
      " 4149.1 4149.1 4149.1 4149.1 4149.1 4149.1 4149.1 4149.1 4149.1 4149.1\n",
      " 4149.1 4149.1 4149.1 4149.1 4149.1 4149.1 4149.1 4149.1 4149.1 4149.1\n",
      " 4149.1 4149.1 4149.1 4149.1 4149.1 4149.1 4149.1 4149.1 4149.1 4149.1\n",
      " 4149.1 4149.1 4149.1 4149.1 4149.1 4149.1 4149.1 4149.1 4149.1 4149.1\n",
      " 4149.1 4149.1 4149.1 4149.1 4149.1 4149.1 4149.1 4149.1 4149.1 4149.1\n",
      " 4149.1 4149.1 4149.1 4149.1 4149.1 4149.1 4149.1 4149.1 4149.1 4149.1\n",
      " 4149.1 4149.1 4149.1 4149.1 4149.1 4149.1 4149.1 4149.1 4149.1 4149.1]\n"
     ]
    }
   ],
   "source": [
    "with h5py.File(f'GSGM_Discrete.h5', 'r') as disc:\n",
    "    print(disc[\"cell_features\"][1000,:,3])"
   ]
  },
  {
   "cell_type": "code",
   "execution_count": 32,
   "id": "092a42e2-a72d-4d1e-8a38-7e5356594151",
   "metadata": {},
   "outputs": [
    {
     "name": "stdout",
     "output_type": "stream",
     "text": [
      "[ 200.  200.  200.  200.  200.  200.  200.    0. -100.  100.]\n"
     ]
    }
   ],
   "source": [
    "print(g4[\"hcal_cells\"][100,:10,1])"
   ]
  },
  {
   "cell_type": "code",
   "execution_count": null,
   "id": "9570245e-e52d-4698-8550-21a69c6ad70b",
   "metadata": {},
   "outputs": [],
   "source": []
  }
 ],
 "metadata": {
  "kernelspec": {
   "display_name": "NERSC Python",
   "language": "python",
   "name": "python3"
  },
  "language_info": {
   "codemirror_mode": {
    "name": "ipython",
    "version": 3
   },
   "file_extension": ".py",
   "mimetype": "text/x-python",
   "name": "python",
   "nbconvert_exporter": "python",
   "pygments_lexer": "ipython3",
   "version": "3.9.7"
  }
 },
 "nbformat": 4,
 "nbformat_minor": 5
}
